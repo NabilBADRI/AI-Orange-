{
  "nbformat": 4,
  "nbformat_minor": 0,
  "metadata": {
    "colab": {
      "name": "F#22.ipynb",
      "provenance": []
    },
    "kernelspec": {
      "name": "python3",
      "display_name": "Python 3"
    }
  },
  "cells": [
    {
      "cell_type": "markdown",
      "metadata": {
        "id": "sEMWro3hlTXx"
      },
      "source": [
        "# Part 1: Data"
      ]
    },
    {
      "cell_type": "markdown",
      "metadata": {
        "id": "fsQ30m8LmDb1"
      },
      "source": [
        "### Importing Libraries"
      ]
    },
    {
      "cell_type": "code",
      "metadata": {
        "id": "cFOrJx9ymCoR"
      },
      "source": [
        "import pandas"
      ],
      "execution_count": null,
      "outputs": []
    },
    {
      "cell_type": "markdown",
      "metadata": {
        "id": "jKqlcg96lz_d"
      },
      "source": [
        "### Data Loading"
      ]
    },
    {
      "cell_type": "code",
      "metadata": {
        "id": "w2vZMLZ7qBIq"
      },
      "source": [
        "# if the fil is on Colab\n",
        "dataset = pandas.read_csv('pokedex.csv')"
      ],
      "execution_count": null,
      "outputs": []
    },
    {
      "cell_type": "code",
      "metadata": {
        "id": "koWIcXhGlZ0Y"
      },
      "source": [
        "# if the file is online somewhere as a csv\n",
        "dataset = pandas.read_csv('https://raw.githubusercontent.com/elyesmanai/Datasets-for-ML-trainings/main/pokedex_(Update_05.20).csv')"
      ],
      "execution_count": null,
      "outputs": []
    },
    {
      "cell_type": "code",
      "metadata": {
        "id": "g6yPWDbOqtzo"
      },
      "source": [
        "#pandas.read_...\n",
        "#badel les ... ib wa7da min hedhouma: csv, json, html, pickle etc..."
      ],
      "execution_count": null,
      "outputs": []
    },
    {
      "cell_type": "markdown",
      "metadata": {
        "id": "LiOlS41Il3l8"
      },
      "source": [
        "### Exploratory Data Analysis (EDA)"
      ]
    },
    {
      "cell_type": "code",
      "metadata": {
        "id": "In-H3IfkraFH"
      },
      "source": [
        "# fi wist dataframe, najmou na3rfou 7ajtin:\n",
        "# Attribut li howa une information deja mawjouda\n",
        "# Fonction ti7siblna 7aja"
      ],
      "execution_count": null,
      "outputs": []
    },
    {
      "cell_type": "code",
      "metadata": {
        "colab": {
          "base_uri": "https://localhost:8080/"
        },
        "id": "9YkUdhx-mSBV",
        "outputId": "ff70a3cf-1fba-4be2-c71f-1535de92f6e4"
      },
      "source": [
        "dataset.shape #number of rows and columns"
      ],
      "execution_count": null,
      "outputs": [
        {
          "output_type": "execute_result",
          "data": {
            "text/plain": [
              "(1028, 51)"
            ]
          },
          "metadata": {
            "tags": []
          },
          "execution_count": 17
        }
      ]
    },
    {
      "cell_type": "code",
      "metadata": {
        "colab": {
          "base_uri": "https://localhost:8080/"
        },
        "id": "9-lbpmKJmv-y",
        "outputId": "11a0b161-524f-496e-90b9-88098af61214"
      },
      "source": [
        "dataset.columns # names of columns"
      ],
      "execution_count": null,
      "outputs": [
        {
          "output_type": "execute_result",
          "data": {
            "text/plain": [
              "Index(['Unnamed: 0', 'pokedex_number', 'name', 'german_name', 'japanese_name',\n",
              "       'generation', 'status', 'species', 'type_number', 'type_1', 'type_2',\n",
              "       'height_m', 'weight_kg', 'abilities_number', 'ability_1', 'ability_2',\n",
              "       'ability_hidden', 'total_points', 'hp', 'attack', 'defense',\n",
              "       'sp_attack', 'sp_defense', 'speed', 'catch_rate', 'base_friendship',\n",
              "       'base_experience', 'growth_rate', 'egg_type_number', 'egg_type_1',\n",
              "       'egg_type_2', 'percentage_male', 'egg_cycles', 'against_normal',\n",
              "       'against_fire', 'against_water', 'against_electric', 'against_grass',\n",
              "       'against_ice', 'against_fight', 'against_poison', 'against_ground',\n",
              "       'against_flying', 'against_psychic', 'against_bug', 'against_rock',\n",
              "       'against_ghost', 'against_dragon', 'against_dark', 'against_steel',\n",
              "       'against_fairy'],\n",
              "      dtype='object')"
            ]
          },
          "metadata": {
            "tags": []
          },
          "execution_count": 29
        }
      ]
    },
    {
      "cell_type": "code",
      "metadata": {
        "colab": {
          "base_uri": "https://localhost:8080/",
          "height": 133
        },
        "id": "4-97xXP0m9aw",
        "outputId": "52ae987f-800b-42ca-aa00-4b8b1700b9c8"
      },
      "source": [
        "dataset.head() # first rows (5 by default)\n",
        "dataset.tail() # last rows (5 by default)\n",
        "dataset.sample() # random rows (1 by default)"
      ],
      "execution_count": null,
      "outputs": [
        {
          "output_type": "execute_result",
          "data": {
            "text/html": [
              "<div>\n",
              "<style scoped>\n",
              "    .dataframe tbody tr th:only-of-type {\n",
              "        vertical-align: middle;\n",
              "    }\n",
              "\n",
              "    .dataframe tbody tr th {\n",
              "        vertical-align: top;\n",
              "    }\n",
              "\n",
              "    .dataframe thead th {\n",
              "        text-align: right;\n",
              "    }\n",
              "</style>\n",
              "<table border=\"1\" class=\"dataframe\">\n",
              "  <thead>\n",
              "    <tr style=\"text-align: right;\">\n",
              "      <th></th>\n",
              "      <th>Unnamed: 0</th>\n",
              "      <th>pokedex_number</th>\n",
              "      <th>name</th>\n",
              "      <th>german_name</th>\n",
              "      <th>japanese_name</th>\n",
              "      <th>generation</th>\n",
              "      <th>status</th>\n",
              "      <th>species</th>\n",
              "      <th>type_number</th>\n",
              "      <th>type_1</th>\n",
              "      <th>type_2</th>\n",
              "      <th>height_m</th>\n",
              "      <th>weight_kg</th>\n",
              "      <th>abilities_number</th>\n",
              "      <th>ability_1</th>\n",
              "      <th>ability_2</th>\n",
              "      <th>ability_hidden</th>\n",
              "      <th>total_points</th>\n",
              "      <th>hp</th>\n",
              "      <th>attack</th>\n",
              "      <th>defense</th>\n",
              "      <th>sp_attack</th>\n",
              "      <th>sp_defense</th>\n",
              "      <th>speed</th>\n",
              "      <th>catch_rate</th>\n",
              "      <th>base_friendship</th>\n",
              "      <th>base_experience</th>\n",
              "      <th>growth_rate</th>\n",
              "      <th>egg_type_number</th>\n",
              "      <th>egg_type_1</th>\n",
              "      <th>egg_type_2</th>\n",
              "      <th>percentage_male</th>\n",
              "      <th>egg_cycles</th>\n",
              "      <th>against_normal</th>\n",
              "      <th>against_fire</th>\n",
              "      <th>against_water</th>\n",
              "      <th>against_electric</th>\n",
              "      <th>against_grass</th>\n",
              "      <th>against_ice</th>\n",
              "      <th>against_fight</th>\n",
              "      <th>against_poison</th>\n",
              "      <th>against_ground</th>\n",
              "      <th>against_flying</th>\n",
              "      <th>against_psychic</th>\n",
              "      <th>against_bug</th>\n",
              "      <th>against_rock</th>\n",
              "      <th>against_ghost</th>\n",
              "      <th>against_dragon</th>\n",
              "      <th>against_dark</th>\n",
              "      <th>against_steel</th>\n",
              "      <th>against_fairy</th>\n",
              "    </tr>\n",
              "  </thead>\n",
              "  <tbody>\n",
              "    <tr>\n",
              "      <th>227</th>\n",
              "      <td>227</td>\n",
              "      <td>186</td>\n",
              "      <td>Politoed</td>\n",
              "      <td>Quaxo</td>\n",
              "      <td>ニョロトノ (Nyorotono)</td>\n",
              "      <td>2</td>\n",
              "      <td>Normal</td>\n",
              "      <td>Frog Pokémon</td>\n",
              "      <td>1</td>\n",
              "      <td>Water</td>\n",
              "      <td>NaN</td>\n",
              "      <td>1.1</td>\n",
              "      <td>33.9</td>\n",
              "      <td>3</td>\n",
              "      <td>Water Absorb</td>\n",
              "      <td>Damp</td>\n",
              "      <td>Drizzle</td>\n",
              "      <td>500.0</td>\n",
              "      <td>90.0</td>\n",
              "      <td>75.0</td>\n",
              "      <td>75.0</td>\n",
              "      <td>90.0</td>\n",
              "      <td>100.0</td>\n",
              "      <td>70.0</td>\n",
              "      <td>45.0</td>\n",
              "      <td>70.0</td>\n",
              "      <td>225.0</td>\n",
              "      <td>Medium Slow</td>\n",
              "      <td>1</td>\n",
              "      <td>Water 1</td>\n",
              "      <td>NaN</td>\n",
              "      <td>50.0</td>\n",
              "      <td>20.0</td>\n",
              "      <td>1.0</td>\n",
              "      <td>0.5</td>\n",
              "      <td>0.0</td>\n",
              "      <td>2.0</td>\n",
              "      <td>2.0</td>\n",
              "      <td>0.5</td>\n",
              "      <td>1.0</td>\n",
              "      <td>1.0</td>\n",
              "      <td>1.0</td>\n",
              "      <td>1.0</td>\n",
              "      <td>1.0</td>\n",
              "      <td>1.0</td>\n",
              "      <td>1.0</td>\n",
              "      <td>1.0</td>\n",
              "      <td>1.0</td>\n",
              "      <td>1.0</td>\n",
              "      <td>0.5</td>\n",
              "      <td>1.0</td>\n",
              "    </tr>\n",
              "  </tbody>\n",
              "</table>\n",
              "</div>"
            ],
            "text/plain": [
              "     Unnamed: 0  pokedex_number  ... against_steel against_fairy\n",
              "227         227             186  ...           0.5           1.0\n",
              "\n",
              "[1 rows x 51 columns]"
            ]
          },
          "metadata": {
            "tags": []
          },
          "execution_count": 33
        }
      ]
    },
    {
      "cell_type": "code",
      "metadata": {
        "colab": {
          "base_uri": "https://localhost:8080/"
        },
        "id": "grK5piWIpSEm",
        "outputId": "71fa7133-c18b-4e3f-c531-711c95b687d1"
      },
      "source": [
        "dataset.info() \n",
        "# many columns have missing data\n",
        "# all columns are correctly typed\n",
        "# memory size is good"
      ],
      "execution_count": null,
      "outputs": [
        {
          "output_type": "stream",
          "text": [
            "<class 'pandas.core.frame.DataFrame'>\n",
            "RangeIndex: 1028 entries, 0 to 1027\n",
            "Data columns (total 51 columns):\n",
            " #   Column            Non-Null Count  Dtype  \n",
            "---  ------            --------------  -----  \n",
            " 0   Unnamed: 0        1028 non-null   int64  \n",
            " 1   pokedex_number    1028 non-null   int64  \n",
            " 2   name              1028 non-null   object \n",
            " 3   german_name       938 non-null    object \n",
            " 4   japanese_name     938 non-null    object \n",
            " 5   generation        1028 non-null   uint8  \n",
            " 6   status            1028 non-null   object \n",
            " 7   species           1028 non-null   object \n",
            " 8   type_number       1028 non-null   int64  \n",
            " 9   type_1            1028 non-null   object \n",
            " 10  type_2            542 non-null    object \n",
            " 11  height_m          1028 non-null   float64\n",
            " 12  weight_kg         1027 non-null   float64\n",
            " 13  abilities_number  1028 non-null   int64  \n",
            " 14  ability_1         1025 non-null   object \n",
            " 15  ability_2         513 non-null    object \n",
            " 16  ability_hidden    810 non-null    object \n",
            " 17  total_points      1028 non-null   float64\n",
            " 18  hp                1028 non-null   float64\n",
            " 19  attack            1028 non-null   float64\n",
            " 20  defense           1028 non-null   float64\n",
            " 21  sp_attack         1028 non-null   float64\n",
            " 22  sp_defense        1028 non-null   float64\n",
            " 23  speed             1028 non-null   float64\n",
            " 24  catch_rate        924 non-null    float64\n",
            " 25  base_friendship   924 non-null    float64\n",
            " 26  base_experience   924 non-null    float64\n",
            " 27  growth_rate       1027 non-null   object \n",
            " 28  egg_type_number   1028 non-null   int64  \n",
            " 29  egg_type_1        1025 non-null   object \n",
            " 30  egg_type_2        282 non-null    object \n",
            " 31  percentage_male   792 non-null    float64\n",
            " 32  egg_cycles        1027 non-null   float64\n",
            " 33  against_normal    1028 non-null   float64\n",
            " 34  against_fire      1028 non-null   float64\n",
            " 35  against_water     1028 non-null   float64\n",
            " 36  against_electric  1028 non-null   float64\n",
            " 37  against_grass     1028 non-null   float64\n",
            " 38  against_ice       1028 non-null   float64\n",
            " 39  against_fight     1028 non-null   float64\n",
            " 40  against_poison    1028 non-null   float64\n",
            " 41  against_ground    1028 non-null   float64\n",
            " 42  against_flying    1028 non-null   float64\n",
            " 43  against_psychic   1028 non-null   float64\n",
            " 44  against_bug       1028 non-null   float64\n",
            " 45  against_rock      1028 non-null   float64\n",
            " 46  against_ghost     1028 non-null   float64\n",
            " 47  against_dragon    1028 non-null   float64\n",
            " 48  against_dark      1028 non-null   float64\n",
            " 49  against_steel     1028 non-null   float64\n",
            " 50  against_fairy     1028 non-null   float64\n",
            "dtypes: float64(32), int64(5), object(13), uint8(1)\n",
            "memory usage: 402.7+ KB\n"
          ],
          "name": "stdout"
        }
      ]
    },
    {
      "cell_type": "code",
      "metadata": {
        "colab": {
          "base_uri": "https://localhost:8080/"
        },
        "id": "E1L4VdqiqkDx",
        "outputId": "016ba097-e74c-42b4-aa28-0016019ec37d"
      },
      "source": [
        "# generation has 8 unique values > 0 --> cast to unit8\n",
        "dataset['generation'].unique()"
      ],
      "execution_count": null,
      "outputs": [
        {
          "output_type": "execute_result",
          "data": {
            "text/plain": [
              "array([1, 2, 3, 4, 5, 6, 7, 8])"
            ]
          },
          "metadata": {
            "tags": []
          },
          "execution_count": 35
        }
      ]
    },
    {
      "cell_type": "code",
      "metadata": {
        "id": "d63nApoEq4Xr"
      },
      "source": [
        "#casting generatin to uint8\n",
        "dataset['generation'] = dataset['generation'].astype(\"uint8\")"
      ],
      "execution_count": null,
      "outputs": []
    },
    {
      "cell_type": "code",
      "metadata": {
        "colab": {
          "base_uri": "https://localhost:8080/",
          "height": 316
        },
        "id": "cCKQpMvcr-jZ",
        "outputId": "e5f1a9e8-431e-4f43-85dd-8b6ce84b2dcd"
      },
      "source": [
        "dataset.describe() #possibility of outlier in height_m and weight_kg"
      ],
      "execution_count": null,
      "outputs": [
        {
          "output_type": "execute_result",
          "data": {
            "text/html": [
              "<div>\n",
              "<style scoped>\n",
              "    .dataframe tbody tr th:only-of-type {\n",
              "        vertical-align: middle;\n",
              "    }\n",
              "\n",
              "    .dataframe tbody tr th {\n",
              "        vertical-align: top;\n",
              "    }\n",
              "\n",
              "    .dataframe thead th {\n",
              "        text-align: right;\n",
              "    }\n",
              "</style>\n",
              "<table border=\"1\" class=\"dataframe\">\n",
              "  <thead>\n",
              "    <tr style=\"text-align: right;\">\n",
              "      <th></th>\n",
              "      <th>Unnamed: 0</th>\n",
              "      <th>pokedex_number</th>\n",
              "      <th>generation</th>\n",
              "      <th>type_number</th>\n",
              "      <th>height_m</th>\n",
              "      <th>weight_kg</th>\n",
              "      <th>abilities_number</th>\n",
              "      <th>total_points</th>\n",
              "      <th>hp</th>\n",
              "      <th>attack</th>\n",
              "      <th>defense</th>\n",
              "      <th>sp_attack</th>\n",
              "      <th>sp_defense</th>\n",
              "      <th>speed</th>\n",
              "      <th>catch_rate</th>\n",
              "      <th>base_friendship</th>\n",
              "      <th>base_experience</th>\n",
              "      <th>egg_type_number</th>\n",
              "      <th>percentage_male</th>\n",
              "      <th>egg_cycles</th>\n",
              "      <th>against_normal</th>\n",
              "      <th>against_fire</th>\n",
              "      <th>against_water</th>\n",
              "      <th>against_electric</th>\n",
              "      <th>against_grass</th>\n",
              "      <th>against_ice</th>\n",
              "      <th>against_fight</th>\n",
              "      <th>against_poison</th>\n",
              "      <th>against_ground</th>\n",
              "      <th>against_flying</th>\n",
              "      <th>against_psychic</th>\n",
              "      <th>against_bug</th>\n",
              "      <th>against_rock</th>\n",
              "      <th>against_ghost</th>\n",
              "      <th>against_dragon</th>\n",
              "      <th>against_dark</th>\n",
              "      <th>against_steel</th>\n",
              "      <th>against_fairy</th>\n",
              "    </tr>\n",
              "  </thead>\n",
              "  <tbody>\n",
              "    <tr>\n",
              "      <th>count</th>\n",
              "      <td>1028.000000</td>\n",
              "      <td>1028.000000</td>\n",
              "      <td>1028.000000</td>\n",
              "      <td>1028.000000</td>\n",
              "      <td>1028.000000</td>\n",
              "      <td>1027.000000</td>\n",
              "      <td>1028.000000</td>\n",
              "      <td>1028.000000</td>\n",
              "      <td>1028.000000</td>\n",
              "      <td>1028.000000</td>\n",
              "      <td>1028.000000</td>\n",
              "      <td>1028.000000</td>\n",
              "      <td>1028.000000</td>\n",
              "      <td>1028.000000</td>\n",
              "      <td>924.000000</td>\n",
              "      <td>924.000000</td>\n",
              "      <td>924.000000</td>\n",
              "      <td>1028.000000</td>\n",
              "      <td>792.000000</td>\n",
              "      <td>1027.000000</td>\n",
              "      <td>1028.000000</td>\n",
              "      <td>1028.000000</td>\n",
              "      <td>1028.000000</td>\n",
              "      <td>1028.000000</td>\n",
              "      <td>1028.000000</td>\n",
              "      <td>1028.000000</td>\n",
              "      <td>1028.000000</td>\n",
              "      <td>1028.000000</td>\n",
              "      <td>1028.000000</td>\n",
              "      <td>1028.000000</td>\n",
              "      <td>1028.000000</td>\n",
              "      <td>1028.000000</td>\n",
              "      <td>1028.000000</td>\n",
              "      <td>1028.000000</td>\n",
              "      <td>1028.000000</td>\n",
              "      <td>1028.000000</td>\n",
              "      <td>1028.000000</td>\n",
              "      <td>1028.000000</td>\n",
              "    </tr>\n",
              "    <tr>\n",
              "      <th>mean</th>\n",
              "      <td>513.500000</td>\n",
              "      <td>437.711089</td>\n",
              "      <td>4.034047</td>\n",
              "      <td>1.527237</td>\n",
              "      <td>1.368093</td>\n",
              "      <td>69.753749</td>\n",
              "      <td>2.284047</td>\n",
              "      <td>437.571984</td>\n",
              "      <td>69.577821</td>\n",
              "      <td>80.119650</td>\n",
              "      <td>74.475681</td>\n",
              "      <td>72.732490</td>\n",
              "      <td>72.132296</td>\n",
              "      <td>68.534047</td>\n",
              "      <td>93.172078</td>\n",
              "      <td>64.139610</td>\n",
              "      <td>153.814935</td>\n",
              "      <td>1.271401</td>\n",
              "      <td>55.003157</td>\n",
              "      <td>30.316456</td>\n",
              "      <td>0.868434</td>\n",
              "      <td>1.125486</td>\n",
              "      <td>1.053502</td>\n",
              "      <td>1.034290</td>\n",
              "      <td>1.004134</td>\n",
              "      <td>1.196498</td>\n",
              "      <td>1.078794</td>\n",
              "      <td>0.952335</td>\n",
              "      <td>1.084630</td>\n",
              "      <td>1.166342</td>\n",
              "      <td>0.979329</td>\n",
              "      <td>0.992461</td>\n",
              "      <td>1.239786</td>\n",
              "      <td>1.010700</td>\n",
              "      <td>0.975681</td>\n",
              "      <td>1.065661</td>\n",
              "      <td>0.980302</td>\n",
              "      <td>1.084874</td>\n",
              "    </tr>\n",
              "    <tr>\n",
              "      <th>std</th>\n",
              "      <td>296.902341</td>\n",
              "      <td>259.366480</td>\n",
              "      <td>2.234937</td>\n",
              "      <td>0.499501</td>\n",
              "      <td>3.380126</td>\n",
              "      <td>129.221230</td>\n",
              "      <td>0.794981</td>\n",
              "      <td>121.664910</td>\n",
              "      <td>26.385849</td>\n",
              "      <td>32.372321</td>\n",
              "      <td>31.303309</td>\n",
              "      <td>32.677698</td>\n",
              "      <td>28.083684</td>\n",
              "      <td>29.802103</td>\n",
              "      <td>75.240630</td>\n",
              "      <td>21.455464</td>\n",
              "      <td>79.270628</td>\n",
              "      <td>0.451417</td>\n",
              "      <td>20.182675</td>\n",
              "      <td>28.942912</td>\n",
              "      <td>0.286236</td>\n",
              "      <td>0.717742</td>\n",
              "      <td>0.613411</td>\n",
              "      <td>0.645167</td>\n",
              "      <td>0.748527</td>\n",
              "      <td>0.759471</td>\n",
              "      <td>0.754969</td>\n",
              "      <td>0.542982</td>\n",
              "      <td>0.784937</td>\n",
              "      <td>0.593030</td>\n",
              "      <td>0.499146</td>\n",
              "      <td>0.598301</td>\n",
              "      <td>0.699156</td>\n",
              "      <td>0.558533</td>\n",
              "      <td>0.377549</td>\n",
              "      <td>0.451054</td>\n",
              "      <td>0.503434</td>\n",
              "      <td>0.527743</td>\n",
              "    </tr>\n",
              "    <tr>\n",
              "      <th>min</th>\n",
              "      <td>0.000000</td>\n",
              "      <td>1.000000</td>\n",
              "      <td>1.000000</td>\n",
              "      <td>1.000000</td>\n",
              "      <td>0.100000</td>\n",
              "      <td>0.100000</td>\n",
              "      <td>0.000000</td>\n",
              "      <td>175.000000</td>\n",
              "      <td>1.000000</td>\n",
              "      <td>5.000000</td>\n",
              "      <td>5.000000</td>\n",
              "      <td>10.000000</td>\n",
              "      <td>20.000000</td>\n",
              "      <td>5.000000</td>\n",
              "      <td>3.000000</td>\n",
              "      <td>0.000000</td>\n",
              "      <td>36.000000</td>\n",
              "      <td>0.000000</td>\n",
              "      <td>0.000000</td>\n",
              "      <td>5.000000</td>\n",
              "      <td>0.000000</td>\n",
              "      <td>0.000000</td>\n",
              "      <td>0.000000</td>\n",
              "      <td>0.000000</td>\n",
              "      <td>0.000000</td>\n",
              "      <td>0.000000</td>\n",
              "      <td>0.000000</td>\n",
              "      <td>0.000000</td>\n",
              "      <td>0.000000</td>\n",
              "      <td>0.250000</td>\n",
              "      <td>0.000000</td>\n",
              "      <td>0.000000</td>\n",
              "      <td>0.250000</td>\n",
              "      <td>0.000000</td>\n",
              "      <td>0.000000</td>\n",
              "      <td>0.250000</td>\n",
              "      <td>0.000000</td>\n",
              "      <td>0.000000</td>\n",
              "    </tr>\n",
              "    <tr>\n",
              "      <th>25%</th>\n",
              "      <td>256.750000</td>\n",
              "      <td>213.750000</td>\n",
              "      <td>2.000000</td>\n",
              "      <td>1.000000</td>\n",
              "      <td>0.600000</td>\n",
              "      <td>8.800000</td>\n",
              "      <td>2.000000</td>\n",
              "      <td>330.000000</td>\n",
              "      <td>50.000000</td>\n",
              "      <td>55.000000</td>\n",
              "      <td>50.000000</td>\n",
              "      <td>50.000000</td>\n",
              "      <td>50.000000</td>\n",
              "      <td>45.000000</td>\n",
              "      <td>45.000000</td>\n",
              "      <td>70.000000</td>\n",
              "      <td>67.000000</td>\n",
              "      <td>1.000000</td>\n",
              "      <td>50.000000</td>\n",
              "      <td>20.000000</td>\n",
              "      <td>1.000000</td>\n",
              "      <td>0.500000</td>\n",
              "      <td>0.500000</td>\n",
              "      <td>0.500000</td>\n",
              "      <td>0.500000</td>\n",
              "      <td>0.500000</td>\n",
              "      <td>0.500000</td>\n",
              "      <td>0.500000</td>\n",
              "      <td>0.500000</td>\n",
              "      <td>1.000000</td>\n",
              "      <td>1.000000</td>\n",
              "      <td>0.500000</td>\n",
              "      <td>1.000000</td>\n",
              "      <td>1.000000</td>\n",
              "      <td>1.000000</td>\n",
              "      <td>1.000000</td>\n",
              "      <td>0.500000</td>\n",
              "      <td>1.000000</td>\n",
              "    </tr>\n",
              "    <tr>\n",
              "      <th>50%</th>\n",
              "      <td>513.500000</td>\n",
              "      <td>433.500000</td>\n",
              "      <td>4.000000</td>\n",
              "      <td>2.000000</td>\n",
              "      <td>1.000000</td>\n",
              "      <td>28.500000</td>\n",
              "      <td>2.000000</td>\n",
              "      <td>455.000000</td>\n",
              "      <td>66.500000</td>\n",
              "      <td>76.000000</td>\n",
              "      <td>70.000000</td>\n",
              "      <td>65.000000</td>\n",
              "      <td>70.000000</td>\n",
              "      <td>65.000000</td>\n",
              "      <td>60.000000</td>\n",
              "      <td>70.000000</td>\n",
              "      <td>159.000000</td>\n",
              "      <td>1.000000</td>\n",
              "      <td>50.000000</td>\n",
              "      <td>20.000000</td>\n",
              "      <td>1.000000</td>\n",
              "      <td>1.000000</td>\n",
              "      <td>1.000000</td>\n",
              "      <td>1.000000</td>\n",
              "      <td>1.000000</td>\n",
              "      <td>1.000000</td>\n",
              "      <td>1.000000</td>\n",
              "      <td>1.000000</td>\n",
              "      <td>1.000000</td>\n",
              "      <td>1.000000</td>\n",
              "      <td>1.000000</td>\n",
              "      <td>1.000000</td>\n",
              "      <td>1.000000</td>\n",
              "      <td>1.000000</td>\n",
              "      <td>1.000000</td>\n",
              "      <td>1.000000</td>\n",
              "      <td>1.000000</td>\n",
              "      <td>1.000000</td>\n",
              "    </tr>\n",
              "    <tr>\n",
              "      <th>75%</th>\n",
              "      <td>770.250000</td>\n",
              "      <td>663.250000</td>\n",
              "      <td>6.000000</td>\n",
              "      <td>2.000000</td>\n",
              "      <td>1.500000</td>\n",
              "      <td>69.100000</td>\n",
              "      <td>3.000000</td>\n",
              "      <td>510.000000</td>\n",
              "      <td>80.000000</td>\n",
              "      <td>100.000000</td>\n",
              "      <td>90.000000</td>\n",
              "      <td>95.000000</td>\n",
              "      <td>90.000000</td>\n",
              "      <td>90.000000</td>\n",
              "      <td>127.000000</td>\n",
              "      <td>70.000000</td>\n",
              "      <td>201.500000</td>\n",
              "      <td>2.000000</td>\n",
              "      <td>50.000000</td>\n",
              "      <td>25.000000</td>\n",
              "      <td>1.000000</td>\n",
              "      <td>2.000000</td>\n",
              "      <td>1.000000</td>\n",
              "      <td>1.000000</td>\n",
              "      <td>1.000000</td>\n",
              "      <td>2.000000</td>\n",
              "      <td>2.000000</td>\n",
              "      <td>1.000000</td>\n",
              "      <td>1.625000</td>\n",
              "      <td>1.000000</td>\n",
              "      <td>1.000000</td>\n",
              "      <td>1.000000</td>\n",
              "      <td>2.000000</td>\n",
              "      <td>1.000000</td>\n",
              "      <td>1.000000</td>\n",
              "      <td>1.000000</td>\n",
              "      <td>1.000000</td>\n",
              "      <td>1.000000</td>\n",
              "    </tr>\n",
              "    <tr>\n",
              "      <th>max</th>\n",
              "      <td>1027.000000</td>\n",
              "      <td>890.000000</td>\n",
              "      <td>8.000000</td>\n",
              "      <td>2.000000</td>\n",
              "      <td>100.000000</td>\n",
              "      <td>999.900000</td>\n",
              "      <td>3.000000</td>\n",
              "      <td>1125.000000</td>\n",
              "      <td>255.000000</td>\n",
              "      <td>190.000000</td>\n",
              "      <td>250.000000</td>\n",
              "      <td>194.000000</td>\n",
              "      <td>250.000000</td>\n",
              "      <td>180.000000</td>\n",
              "      <td>255.000000</td>\n",
              "      <td>140.000000</td>\n",
              "      <td>608.000000</td>\n",
              "      <td>2.000000</td>\n",
              "      <td>100.000000</td>\n",
              "      <td>120.000000</td>\n",
              "      <td>1.000000</td>\n",
              "      <td>4.000000</td>\n",
              "      <td>4.000000</td>\n",
              "      <td>4.000000</td>\n",
              "      <td>4.000000</td>\n",
              "      <td>4.000000</td>\n",
              "      <td>4.000000</td>\n",
              "      <td>4.000000</td>\n",
              "      <td>4.000000</td>\n",
              "      <td>4.000000</td>\n",
              "      <td>4.000000</td>\n",
              "      <td>4.000000</td>\n",
              "      <td>4.000000</td>\n",
              "      <td>4.000000</td>\n",
              "      <td>2.000000</td>\n",
              "      <td>4.000000</td>\n",
              "      <td>4.000000</td>\n",
              "      <td>4.000000</td>\n",
              "    </tr>\n",
              "  </tbody>\n",
              "</table>\n",
              "</div>"
            ],
            "text/plain": [
              "        Unnamed: 0  pokedex_number  ...  against_steel  against_fairy\n",
              "count  1028.000000     1028.000000  ...    1028.000000    1028.000000\n",
              "mean    513.500000      437.711089  ...       0.980302       1.084874\n",
              "std     296.902341      259.366480  ...       0.503434       0.527743\n",
              "min       0.000000        1.000000  ...       0.000000       0.000000\n",
              "25%     256.750000      213.750000  ...       0.500000       1.000000\n",
              "50%     513.500000      433.500000  ...       1.000000       1.000000\n",
              "75%     770.250000      663.250000  ...       1.000000       1.000000\n",
              "max    1027.000000      890.000000  ...       4.000000       4.000000\n",
              "\n",
              "[8 rows x 38 columns]"
            ]
          },
          "metadata": {
            "tags": []
          },
          "execution_count": 44
        }
      ]
    },
    {
      "cell_type": "code",
      "metadata": {
        "id": "0TZARd8jtMya"
      },
      "source": [
        "type(dataset) # DataFrame\n",
        "type(dataset['height_m']) # Series\n",
        "type(dataset['height_m'].values) # array"
      ],
      "execution_count": null,
      "outputs": []
    },
    {
      "cell_type": "code",
      "metadata": {
        "colab": {
          "base_uri": "https://localhost:8080/",
          "height": 282
        },
        "id": "ITj7IlmutzOc",
        "outputId": "efcb5426-bc31-45e7-bf99-bddd980b15a9"
      },
      "source": [
        "dataset['height_m'].plot() \n",
        "# Outlier in height_m (100m)\n",
        "# weight: no outlier"
      ],
      "execution_count": null,
      "outputs": [
        {
          "output_type": "execute_result",
          "data": {
            "text/plain": [
              "<matplotlib.axes._subplots.AxesSubplot at 0x7efee8c95f10>"
            ]
          },
          "metadata": {
            "tags": []
          },
          "execution_count": 74
        },
        {
          "output_type": "display_data",
          "data": {
            "image/png": "[encoded data removed]",
            "text/plain": [
              "<Figure size 432x288 with 1 Axes>"
            ]
          },
          "metadata": {
            "tags": [],
            "needs_background": "light"
          }
        }
      ]
    },
    {
      "cell_type": "code",
      "metadata": {
        "colab": {
          "base_uri": "https://localhost:8080/",
          "height": 133
        },
        "id": "fnFSLr9DuUif",
        "outputId": "0de268e5-e576-4907-cdc5-5e0e469772a6"
      },
      "source": [
        "# Filtering (conditional selection)\n",
        "dataset[ dataset['height_m'] > 90 ]"
      ],
      "execution_count": null,
      "outputs": [
        {
          "output_type": "execute_result",
          "data": {
            "text/html": [
              "<div>\n",
              "<style scoped>\n",
              "    .dataframe tbody tr th:only-of-type {\n",
              "        vertical-align: middle;\n",
              "    }\n",
              "\n",
              "    .dataframe tbody tr th {\n",
              "        vertical-align: top;\n",
              "    }\n",
              "\n",
              "    .dataframe thead th {\n",
              "        text-align: right;\n",
              "    }\n",
              "</style>\n",
              "<table border=\"1\" class=\"dataframe\">\n",
              "  <thead>\n",
              "    <tr style=\"text-align: right;\">\n",
              "      <th></th>\n",
              "      <th>Unnamed: 0</th>\n",
              "      <th>pokedex_number</th>\n",
              "      <th>name</th>\n",
              "      <th>german_name</th>\n",
              "      <th>japanese_name</th>\n",
              "      <th>generation</th>\n",
              "      <th>status</th>\n",
              "      <th>species</th>\n",
              "      <th>type_number</th>\n",
              "      <th>type_1</th>\n",
              "      <th>type_2</th>\n",
              "      <th>height_m</th>\n",
              "      <th>weight_kg</th>\n",
              "      <th>abilities_number</th>\n",
              "      <th>ability_1</th>\n",
              "      <th>ability_2</th>\n",
              "      <th>ability_hidden</th>\n",
              "      <th>total_points</th>\n",
              "      <th>hp</th>\n",
              "      <th>attack</th>\n",
              "      <th>defense</th>\n",
              "      <th>sp_attack</th>\n",
              "      <th>sp_defense</th>\n",
              "      <th>speed</th>\n",
              "      <th>catch_rate</th>\n",
              "      <th>base_friendship</th>\n",
              "      <th>base_experience</th>\n",
              "      <th>growth_rate</th>\n",
              "      <th>egg_type_number</th>\n",
              "      <th>egg_type_1</th>\n",
              "      <th>egg_type_2</th>\n",
              "      <th>percentage_male</th>\n",
              "      <th>egg_cycles</th>\n",
              "      <th>against_normal</th>\n",
              "      <th>against_fire</th>\n",
              "      <th>against_water</th>\n",
              "      <th>against_electric</th>\n",
              "      <th>against_grass</th>\n",
              "      <th>against_ice</th>\n",
              "      <th>against_fight</th>\n",
              "      <th>against_poison</th>\n",
              "      <th>against_ground</th>\n",
              "      <th>against_flying</th>\n",
              "      <th>against_psychic</th>\n",
              "      <th>against_bug</th>\n",
              "      <th>against_rock</th>\n",
              "      <th>against_ghost</th>\n",
              "      <th>against_dragon</th>\n",
              "      <th>against_dark</th>\n",
              "      <th>against_steel</th>\n",
              "      <th>against_fairy</th>\n",
              "    </tr>\n",
              "  </thead>\n",
              "  <tbody>\n",
              "    <tr>\n",
              "      <th>1027</th>\n",
              "      <td>1027</td>\n",
              "      <td>890</td>\n",
              "      <td>Eternatus Eternamax</td>\n",
              "      <td>NaN</td>\n",
              "      <td>NaN</td>\n",
              "      <td>8</td>\n",
              "      <td>Legendary</td>\n",
              "      <td>Gigantic Pokémon</td>\n",
              "      <td>2</td>\n",
              "      <td>Poison</td>\n",
              "      <td>Dragon</td>\n",
              "      <td>100.0</td>\n",
              "      <td>NaN</td>\n",
              "      <td>0</td>\n",
              "      <td>NaN</td>\n",
              "      <td>NaN</td>\n",
              "      <td>NaN</td>\n",
              "      <td>1125.0</td>\n",
              "      <td>255.0</td>\n",
              "      <td>115.0</td>\n",
              "      <td>250.0</td>\n",
              "      <td>125.0</td>\n",
              "      <td>250.0</td>\n",
              "      <td>130.0</td>\n",
              "      <td>NaN</td>\n",
              "      <td>NaN</td>\n",
              "      <td>NaN</td>\n",
              "      <td>Slow</td>\n",
              "      <td>1</td>\n",
              "      <td>Undiscovered</td>\n",
              "      <td>NaN</td>\n",
              "      <td>NaN</td>\n",
              "      <td>120.0</td>\n",
              "      <td>1.0</td>\n",
              "      <td>0.5</td>\n",
              "      <td>0.5</td>\n",
              "      <td>0.5</td>\n",
              "      <td>0.25</td>\n",
              "      <td>2.0</td>\n",
              "      <td>0.5</td>\n",
              "      <td>0.5</td>\n",
              "      <td>2.0</td>\n",
              "      <td>1.0</td>\n",
              "      <td>2.0</td>\n",
              "      <td>0.5</td>\n",
              "      <td>1.0</td>\n",
              "      <td>1.0</td>\n",
              "      <td>2.0</td>\n",
              "      <td>1.0</td>\n",
              "      <td>1.0</td>\n",
              "      <td>1.0</td>\n",
              "    </tr>\n",
              "  </tbody>\n",
              "</table>\n",
              "</div>"
            ],
            "text/plain": [
              "      Unnamed: 0  pokedex_number  ... against_steel against_fairy\n",
              "1027        1027             890  ...           1.0           1.0\n",
              "\n",
              "[1 rows x 51 columns]"
            ]
          },
          "metadata": {
            "tags": []
          },
          "execution_count": 82
        }
      ]
    },
    {
      "cell_type": "code",
      "metadata": {
        "colab": {
          "base_uri": "https://localhost:8080/",
          "height": 181
        },
        "id": "NMVuGAM5vIgy",
        "outputId": "0279042b-9bd3-4cc8-bce4-f88c4f5732f9"
      },
      "source": [
        "dataset[ dataset['species'] == \"Gigantic Pokémon\"]"
      ],
      "execution_count": null,
      "outputs": [
        {
          "output_type": "execute_result",
          "data": {
            "text/html": [
              "<div>\n",
              "<style scoped>\n",
              "    .dataframe tbody tr th:only-of-type {\n",
              "        vertical-align: middle;\n",
              "    }\n",
              "\n",
              "    .dataframe tbody tr th {\n",
              "        vertical-align: top;\n",
              "    }\n",
              "\n",
              "    .dataframe thead th {\n",
              "        text-align: right;\n",
              "    }\n",
              "</style>\n",
              "<table border=\"1\" class=\"dataframe\">\n",
              "  <thead>\n",
              "    <tr style=\"text-align: right;\">\n",
              "      <th></th>\n",
              "      <th>Unnamed: 0</th>\n",
              "      <th>pokedex_number</th>\n",
              "      <th>name</th>\n",
              "      <th>german_name</th>\n",
              "      <th>japanese_name</th>\n",
              "      <th>generation</th>\n",
              "      <th>status</th>\n",
              "      <th>species</th>\n",
              "      <th>type_number</th>\n",
              "      <th>type_1</th>\n",
              "      <th>type_2</th>\n",
              "      <th>height_m</th>\n",
              "      <th>weight_kg</th>\n",
              "      <th>abilities_number</th>\n",
              "      <th>ability_1</th>\n",
              "      <th>ability_2</th>\n",
              "      <th>ability_hidden</th>\n",
              "      <th>total_points</th>\n",
              "      <th>hp</th>\n",
              "      <th>attack</th>\n",
              "      <th>defense</th>\n",
              "      <th>sp_attack</th>\n",
              "      <th>sp_defense</th>\n",
              "      <th>speed</th>\n",
              "      <th>catch_rate</th>\n",
              "      <th>base_friendship</th>\n",
              "      <th>base_experience</th>\n",
              "      <th>growth_rate</th>\n",
              "      <th>egg_type_number</th>\n",
              "      <th>egg_type_1</th>\n",
              "      <th>egg_type_2</th>\n",
              "      <th>percentage_male</th>\n",
              "      <th>egg_cycles</th>\n",
              "      <th>against_normal</th>\n",
              "      <th>against_fire</th>\n",
              "      <th>against_water</th>\n",
              "      <th>against_electric</th>\n",
              "      <th>against_grass</th>\n",
              "      <th>against_ice</th>\n",
              "      <th>against_fight</th>\n",
              "      <th>against_poison</th>\n",
              "      <th>against_ground</th>\n",
              "      <th>against_flying</th>\n",
              "      <th>against_psychic</th>\n",
              "      <th>against_bug</th>\n",
              "      <th>against_rock</th>\n",
              "      <th>against_ghost</th>\n",
              "      <th>against_dragon</th>\n",
              "      <th>against_dark</th>\n",
              "      <th>against_steel</th>\n",
              "      <th>against_fairy</th>\n",
              "    </tr>\n",
              "  </thead>\n",
              "  <tbody>\n",
              "    <tr>\n",
              "      <th>1026</th>\n",
              "      <td>1026</td>\n",
              "      <td>890</td>\n",
              "      <td>Eternatus</td>\n",
              "      <td>NaN</td>\n",
              "      <td>NaN</td>\n",
              "      <td>8</td>\n",
              "      <td>Legendary</td>\n",
              "      <td>Gigantic Pokémon</td>\n",
              "      <td>2</td>\n",
              "      <td>Poison</td>\n",
              "      <td>Dragon</td>\n",
              "      <td>20.0</td>\n",
              "      <td>950.0</td>\n",
              "      <td>1</td>\n",
              "      <td>Pressure</td>\n",
              "      <td>NaN</td>\n",
              "      <td>NaN</td>\n",
              "      <td>690.0</td>\n",
              "      <td>140.0</td>\n",
              "      <td>85.0</td>\n",
              "      <td>95.0</td>\n",
              "      <td>145.0</td>\n",
              "      <td>95.0</td>\n",
              "      <td>130.0</td>\n",
              "      <td>NaN</td>\n",
              "      <td>NaN</td>\n",
              "      <td>NaN</td>\n",
              "      <td>Slow</td>\n",
              "      <td>1</td>\n",
              "      <td>Undiscovered</td>\n",
              "      <td>NaN</td>\n",
              "      <td>NaN</td>\n",
              "      <td>120.0</td>\n",
              "      <td>1.0</td>\n",
              "      <td>0.5</td>\n",
              "      <td>0.5</td>\n",
              "      <td>0.5</td>\n",
              "      <td>0.25</td>\n",
              "      <td>2.0</td>\n",
              "      <td>0.5</td>\n",
              "      <td>0.5</td>\n",
              "      <td>2.0</td>\n",
              "      <td>1.0</td>\n",
              "      <td>2.0</td>\n",
              "      <td>0.5</td>\n",
              "      <td>1.0</td>\n",
              "      <td>1.0</td>\n",
              "      <td>2.0</td>\n",
              "      <td>1.0</td>\n",
              "      <td>1.0</td>\n",
              "      <td>1.0</td>\n",
              "    </tr>\n",
              "    <tr>\n",
              "      <th>1027</th>\n",
              "      <td>1027</td>\n",
              "      <td>890</td>\n",
              "      <td>Eternatus Eternamax</td>\n",
              "      <td>NaN</td>\n",
              "      <td>NaN</td>\n",
              "      <td>8</td>\n",
              "      <td>Legendary</td>\n",
              "      <td>Gigantic Pokémon</td>\n",
              "      <td>2</td>\n",
              "      <td>Poison</td>\n",
              "      <td>Dragon</td>\n",
              "      <td>100.0</td>\n",
              "      <td>NaN</td>\n",
              "      <td>0</td>\n",
              "      <td>NaN</td>\n",
              "      <td>NaN</td>\n",
              "      <td>NaN</td>\n",
              "      <td>1125.0</td>\n",
              "      <td>255.0</td>\n",
              "      <td>115.0</td>\n",
              "      <td>250.0</td>\n",
              "      <td>125.0</td>\n",
              "      <td>250.0</td>\n",
              "      <td>130.0</td>\n",
              "      <td>NaN</td>\n",
              "      <td>NaN</td>\n",
              "      <td>NaN</td>\n",
              "      <td>Slow</td>\n",
              "      <td>1</td>\n",
              "      <td>Undiscovered</td>\n",
              "      <td>NaN</td>\n",
              "      <td>NaN</td>\n",
              "      <td>120.0</td>\n",
              "      <td>1.0</td>\n",
              "      <td>0.5</td>\n",
              "      <td>0.5</td>\n",
              "      <td>0.5</td>\n",
              "      <td>0.25</td>\n",
              "      <td>2.0</td>\n",
              "      <td>0.5</td>\n",
              "      <td>0.5</td>\n",
              "      <td>2.0</td>\n",
              "      <td>1.0</td>\n",
              "      <td>2.0</td>\n",
              "      <td>0.5</td>\n",
              "      <td>1.0</td>\n",
              "      <td>1.0</td>\n",
              "      <td>2.0</td>\n",
              "      <td>1.0</td>\n",
              "      <td>1.0</td>\n",
              "      <td>1.0</td>\n",
              "    </tr>\n",
              "  </tbody>\n",
              "</table>\n",
              "</div>"
            ],
            "text/plain": [
              "      Unnamed: 0  pokedex_number  ... against_steel against_fairy\n",
              "1026        1026             890  ...           1.0           1.0\n",
              "1027        1027             890  ...           1.0           1.0\n",
              "\n",
              "[2 rows x 51 columns]"
            ]
          },
          "metadata": {
            "tags": []
          },
          "execution_count": 61
        }
      ]
    },
    {
      "cell_type": "code",
      "metadata": {
        "colab": {
          "base_uri": "https://localhost:8080/",
          "height": 282
        },
        "id": "ntGZDd0_vh7B",
        "outputId": "fca9d12f-90d2-4e13-afc2-7402424c7d55"
      },
      "source": [
        "dataset[ dataset['height_m'] < 20 ]['height_m'].plot()"
      ],
      "execution_count": null,
      "outputs": [
        {
          "output_type": "execute_result",
          "data": {
            "text/plain": [
              "<matplotlib.axes._subplots.AxesSubplot at 0x7efee69bac50>"
            ]
          },
          "metadata": {
            "tags": []
          },
          "execution_count": 96
        },
        {
          "output_type": "display_data",
          "data": {
            "image/png": "[encoded data removed]",
            "text/plain": [
              "<Figure size 432x288 with 1 Axes>"
            ]
          },
          "metadata": {
            "tags": [],
            "needs_background": "light"
          }
        }
      ]
    },
    {
      "cell_type": "code",
      "metadata": {
        "id": "ubzK-CPzv4kI"
      },
      "source": [
        "tall_legendary_pokemons = dataset[ (dataset['height_m'] > 10) & (dataset['status'] == \"Legendary\")]\n",
        "tall_legendary_pokemons"
      ],
      "execution_count": null,
      "outputs": []
    },
    {
      "cell_type": "code",
      "metadata": {
        "id": "dTWN6UWJ23Lv",
        "colab": {
          "base_uri": "https://localhost:8080/"
        },
        "outputId": "303b67ae-2168-4524-c688-f5fd0c7dc79e"
      },
      "source": [
        "dataset.describe(include=\"object\")"
      ],
      "execution_count": null,
      "outputs": [
        {
          "output_type": "execute_result",
          "data": {
            "text/html": [
              "<div>\n",
              "<style scoped>\n",
              "    .dataframe tbody tr th:only-of-type {\n",
              "        vertical-align: middle;\n",
              "    }\n",
              "\n",
              "    .dataframe tbody tr th {\n",
              "        vertical-align: top;\n",
              "    }\n",
              "\n",
              "    .dataframe thead th {\n",
              "        text-align: right;\n",
              "    }\n",
              "</style>\n",
              "<table border=\"1\" class=\"dataframe\">\n",
              "  <thead>\n",
              "    <tr style=\"text-align: right;\">\n",
              "      <th></th>\n",
              "      <th>name</th>\n",
              "      <th>german_name</th>\n",
              "      <th>japanese_name</th>\n",
              "      <th>status</th>\n",
              "      <th>species</th>\n",
              "      <th>type_1</th>\n",
              "      <th>type_2</th>\n",
              "      <th>ability_1</th>\n",
              "      <th>ability_2</th>\n",
              "      <th>ability_hidden</th>\n",
              "      <th>growth_rate</th>\n",
              "      <th>egg_type_1</th>\n",
              "      <th>egg_type_2</th>\n",
              "    </tr>\n",
              "  </thead>\n",
              "  <tbody>\n",
              "    <tr>\n",
              "      <th>count</th>\n",
              "      <td>1028</td>\n",
              "      <td>938</td>\n",
              "      <td>938</td>\n",
              "      <td>1028</td>\n",
              "      <td>1028</td>\n",
              "      <td>1028</td>\n",
              "      <td>542</td>\n",
              "      <td>1025</td>\n",
              "      <td>513</td>\n",
              "      <td>810</td>\n",
              "      <td>1027</td>\n",
              "      <td>1025</td>\n",
              "      <td>282</td>\n",
              "    </tr>\n",
              "    <tr>\n",
              "      <th>unique</th>\n",
              "      <td>1028</td>\n",
              "      <td>807</td>\n",
              "      <td>807</td>\n",
              "      <td>4</td>\n",
              "      <td>641</td>\n",
              "      <td>18</td>\n",
              "      <td>18</td>\n",
              "      <td>202</td>\n",
              "      <td>126</td>\n",
              "      <td>154</td>\n",
              "      <td>6</td>\n",
              "      <td>15</td>\n",
              "      <td>11</td>\n",
              "    </tr>\n",
              "    <tr>\n",
              "      <th>top</th>\n",
              "      <td>Dragalge</td>\n",
              "      <td>Rotom</td>\n",
              "      <td>ロトム (Rotom)</td>\n",
              "      <td>Normal</td>\n",
              "      <td>Mouse Pokémon</td>\n",
              "      <td>Water</td>\n",
              "      <td>Flying</td>\n",
              "      <td>Levitate</td>\n",
              "      <td>Frisk</td>\n",
              "      <td>Telepathy</td>\n",
              "      <td>Medium Fast</td>\n",
              "      <td>Field</td>\n",
              "      <td>Water 1</td>\n",
              "    </tr>\n",
              "    <tr>\n",
              "      <th>freq</th>\n",
              "      <td>1</td>\n",
              "      <td>6</td>\n",
              "      <td>6</td>\n",
              "      <td>915</td>\n",
              "      <td>12</td>\n",
              "      <td>134</td>\n",
              "      <td>109</td>\n",
              "      <td>41</td>\n",
              "      <td>17</td>\n",
              "      <td>21</td>\n",
              "      <td>432</td>\n",
              "      <td>258</td>\n",
              "      <td>76</td>\n",
              "    </tr>\n",
              "  </tbody>\n",
              "</table>\n",
              "</div>"
            ],
            "text/plain": [
              "            name german_name japanese_name  ...  growth_rate egg_type_1 egg_type_2\n",
              "count       1028         938           938  ...         1027       1025        282\n",
              "unique      1028         807           807  ...            6         15         11\n",
              "top     Dragalge       Rotom   ロトム (Rotom)  ...  Medium Fast      Field    Water 1\n",
              "freq           1           6             6  ...          432        258         76\n",
              "\n",
              "[4 rows x 13 columns]"
            ]
          },
          "metadata": {
            "tags": []
          },
          "execution_count": 3
        }
      ]
    },
    {
      "cell_type": "code",
      "metadata": {
        "id": "8p3J8g-J8DEl"
      },
      "source": [
        "# Getting values\n",
        "dataset['status'].count()  # number of non NaN values\n",
        "dataset['status'].unique()   # unique values\n",
        "dataset['status'].nunique()  # number of unique values\n",
        "dataset.dtypes # returns types of columns"
      ],
      "execution_count": null,
      "outputs": []
    },
    {
      "cell_type": "code",
      "metadata": {
        "id": "_0H5_jw98vYM"
      },
      "source": [
        "dataset.sort_values('weight_kg', ascending=False)"
      ],
      "execution_count": null,
      "outputs": []
    },
    {
      "cell_type": "code",
      "metadata": {
        "id": "ChudYKuu9Yf6"
      },
      "source": [
        "dataset.isna().sum() # how many missing values we have per column\n",
        "dataset.isnull().sum() #same thing\n",
        "# if we add another .sum() we have number of total missing values"
      ],
      "execution_count": null,
      "outputs": []
    },
    {
      "cell_type": "code",
      "metadata": {
        "id": "Vo1LySui-URG"
      },
      "source": [
        "dataset[ dataset.isnull().any(axis=1) ] # rows li fehom at least 1 missing value\n",
        "dataset[ dataset.isnull().all(axis=1) ] # rows li columns kol te3ha null"
      ],
      "execution_count": null,
      "outputs": []
    },
    {
      "cell_type": "code",
      "metadata": {
        "colab": {
          "base_uri": "https://localhost:8080/"
        },
        "id": "O8u3VlPJCmm9",
        "outputId": "85f9dd1f-1f0c-4bad-d353-c5ae67cdfd66"
      },
      "source": [
        "dataset.plot(x=\"height_m\", y=\"weight_kg\", style=\"o\")"
      ],
      "execution_count": null,
      "outputs": [
        {
          "output_type": "execute_result",
          "data": {
            "text/plain": [
              "<matplotlib.axes._subplots.AxesSubplot at 0x7f4af8d84790>"
            ]
          },
          "metadata": {
            "tags": []
          },
          "execution_count": 8
        },
        {
          "output_type": "display_data",
          "data": {
            "image/png": "[encoded data removed]",
            "text/plain": [
              "<Figure size 432x288 with 1 Axes>"
            ]
          },
          "metadata": {
            "tags": [],
            "needs_background": "light"
          }
        }
      ]
    },
    {
      "cell_type": "markdown",
      "metadata": {
        "id": "ZM6HUVwC_fPc"
      },
      "source": [
        "## Data Preprocessing / cleaning"
      ]
    },
    {
      "cell_type": "code",
      "metadata": {
        "id": "S-Kdz88f_mq9"
      },
      "source": [
        "# colonnes ( Unnamed, german_name, japanese_name, pokedex_number) najmou nistghanew minhom\n",
        "dataset.drop([\"Unnamed: 0\",'japanese_name','pokedex_number','german_name'], axis=1, inplace=True)"
      ],
      "execution_count": null,
      "outputs": []
    },
    {
      "cell_type": "code",
      "metadata": {
        "id": "HmSeIAPyANEs"
      },
      "source": [
        "dataset.drop([2,5], axis=0, inplace=True) # drops rows with indices 2 & 5"
      ],
      "execution_count": null,
      "outputs": []
    },
    {
      "cell_type": "code",
      "metadata": {
        "id": "FILRlB8BB-vm"
      },
      "source": [
        "dataset.rename(columns = {'generation ':'gen'}, inplace=True)"
      ],
      "execution_count": null,
      "outputs": []
    },
    {
      "cell_type": "code",
      "metadata": {
        "id": "EnXQLDlBD0xT"
      },
      "source": [
        "dataset['bmi'] = dataset['weight_kg'] / dataset['height_m']\n",
        "dataset['bmi'] = 0\n",
        "# if bmi column exists, the values will be replaced\n",
        "# else the column will be created and assigned the right side"
      ],
      "execution_count": null,
      "outputs": []
    },
    {
      "cell_type": "code",
      "metadata": {
        "id": "mnE2ot10BRYm"
      },
      "source": [
        "dataset.to_csv(\"new.csv\", index=False)"
      ],
      "execution_count": null,
      "outputs": []
    },
    {
      "cell_type": "code",
      "metadata": {
        "id": "MLBEDRtwGssH"
      },
      "source": [
        "# to change order of columns do the following with the dolumns ordered like you want\n",
        "# to get the list of columns use dataset.columns\n",
        "dataset = dataset[['gen', 'status','name', 'species', 'type_number', 'type_1', 'type_2',\n",
        "       'height_m', 'weight_kg', 'abilities_number', 'ability_1', 'ability_2',\n",
        "       'ability_hidden', 'total_points', 'hp', 'attack', 'defense',\n",
        "       'sp_attack', 'sp_defense', 'speed', 'catch_rate', 'base_friendship',\n",
        "       'base_experience', 'growth_rate', 'egg_type_number', 'egg_type_1',\n",
        "       'egg_type_2', 'percentage_male', 'egg_cycles', 'against_normal',\n",
        "       'against_fire', 'against_water', 'against_electric', 'against_grass',\n",
        "       'against_ice', 'against_fight', 'against_poison', 'against_ground',\n",
        "       'against_flying', 'against_psychic', 'against_bug', 'against_rock',\n",
        "       'against_ghost', 'against_dragon', 'against_dark', 'against_steel',\n",
        "       'against_fairy', 'bmi']]"
      ],
      "execution_count": null,
      "outputs": []
    },
    {
      "cell_type": "markdown",
      "metadata": {
        "id": "D2b3mxMRRPp2"
      },
      "source": [
        "# Part 2: ML"
      ]
    },
    {
      "cell_type": "markdown",
      "metadata": {
        "id": "UHsmt7X6Wr9z"
      },
      "source": [
        "#### Importing libraries"
      ]
    },
    {
      "cell_type": "code",
      "metadata": {
        "id": "RYBJTbdKRk1g"
      },
      "source": [
        "import pandas as pd\n",
        "import matplotlib.pyplot as plt"
      ],
      "execution_count": null,
      "outputs": []
    },
    {
      "cell_type": "markdown",
      "metadata": {
        "id": "hFHfmhJpWthd"
      },
      "source": [
        "#### Data Loading"
      ]
    },
    {
      "cell_type": "code",
      "metadata": {
        "id": "PHhmuY8RRmg6"
      },
      "source": [
        "dataset = pd.read_csv('https://raw.githubusercontent.com/elyesmanai/Datasets-for-ML-trainings/main/dataset_malwares.csv')"
      ],
      "execution_count": null,
      "outputs": []
    },
    {
      "cell_type": "markdown",
      "metadata": {
        "id": "FIhyiQfjWw_L"
      },
      "source": [
        "#### EDA"
      ]
    },
    {
      "cell_type": "code",
      "metadata": {
        "colab": {
          "base_uri": "https://localhost:8080/"
        },
        "id": "Gfrop3a6R35O",
        "outputId": "dea28379-b775-4b4a-c339-f14a85ca1fd9"
      },
      "source": [
        "dataset.shape"
      ],
      "execution_count": null,
      "outputs": [
        {
          "output_type": "execute_result",
          "data": {
            "text/plain": [
              "(19611, 79)"
            ]
          },
          "metadata": {
            "tags": []
          },
          "execution_count": 6
        }
      ]
    },
    {
      "cell_type": "code",
      "metadata": {
        "colab": {
          "base_uri": "https://localhost:8080/"
        },
        "id": "A98sgowJR9I7",
        "outputId": "eff5fc98-c73f-4330-fc75-8621bb99a55b"
      },
      "source": [
        "dataset.sample(5) "
      ],
      "execution_count": null,
      "outputs": [
        {
          "output_type": "execute_result",
          "data": {
            "text/html": [
              "<div>\n",
              "<style scoped>\n",
              "    .dataframe tbody tr th:only-of-type {\n",
              "        vertical-align: middle;\n",
              "    }\n",
              "\n",
              "    .dataframe tbody tr th {\n",
              "        vertical-align: top;\n",
              "    }\n",
              "\n",
              "    .dataframe thead th {\n",
              "        text-align: right;\n",
              "    }\n",
              "</style>\n",
              "<table border=\"1\" class=\"dataframe\">\n",
              "  <thead>\n",
              "    <tr style=\"text-align: right;\">\n",
              "      <th></th>\n",
              "      <th>Name</th>\n",
              "      <th>e_magic</th>\n",
              "      <th>e_cblp</th>\n",
              "      <th>e_cp</th>\n",
              "      <th>e_crlc</th>\n",
              "      <th>e_cparhdr</th>\n",
              "      <th>e_minalloc</th>\n",
              "      <th>e_maxalloc</th>\n",
              "      <th>e_ss</th>\n",
              "      <th>e_sp</th>\n",
              "      <th>e_csum</th>\n",
              "      <th>e_ip</th>\n",
              "      <th>e_cs</th>\n",
              "      <th>e_lfarlc</th>\n",
              "      <th>e_ovno</th>\n",
              "      <th>e_oemid</th>\n",
              "      <th>e_oeminfo</th>\n",
              "      <th>e_lfanew</th>\n",
              "      <th>Machine</th>\n",
              "      <th>NumberOfSections</th>\n",
              "      <th>TimeDateStamp</th>\n",
              "      <th>PointerToSymbolTable</th>\n",
              "      <th>NumberOfSymbols</th>\n",
              "      <th>SizeOfOptionalHeader</th>\n",
              "      <th>Characteristics</th>\n",
              "      <th>Magic</th>\n",
              "      <th>MajorLinkerVersion</th>\n",
              "      <th>MinorLinkerVersion</th>\n",
              "      <th>SizeOfCode</th>\n",
              "      <th>SizeOfInitializedData</th>\n",
              "      <th>SizeOfUninitializedData</th>\n",
              "      <th>AddressOfEntryPoint</th>\n",
              "      <th>BaseOfCode</th>\n",
              "      <th>ImageBase</th>\n",
              "      <th>SectionAlignment</th>\n",
              "      <th>FileAlignment</th>\n",
              "      <th>MajorOperatingSystemVersion</th>\n",
              "      <th>MinorOperatingSystemVersion</th>\n",
              "      <th>MajorImageVersion</th>\n",
              "      <th>MinorImageVersion</th>\n",
              "      <th>MajorSubsystemVersion</th>\n",
              "      <th>MinorSubsystemVersion</th>\n",
              "      <th>SizeOfHeaders</th>\n",
              "      <th>CheckSum</th>\n",
              "      <th>SizeOfImage</th>\n",
              "      <th>Subsystem</th>\n",
              "      <th>DllCharacteristics</th>\n",
              "      <th>SizeOfStackReserve</th>\n",
              "      <th>SizeOfStackCommit</th>\n",
              "      <th>SizeOfHeapReserve</th>\n",
              "      <th>SizeOfHeapCommit</th>\n",
              "      <th>LoaderFlags</th>\n",
              "      <th>NumberOfRvaAndSizes</th>\n",
              "      <th>Malware</th>\n",
              "      <th>SuspiciousImportFunctions</th>\n",
              "      <th>SuspiciousNameSection</th>\n",
              "      <th>SectionsLength</th>\n",
              "      <th>SectionMinEntropy</th>\n",
              "      <th>SectionMaxEntropy</th>\n",
              "      <th>SectionMinRawsize</th>\n",
              "      <th>SectionMaxRawsize</th>\n",
              "      <th>SectionMinVirtualsize</th>\n",
              "      <th>SectionMaxVirtualsize</th>\n",
              "      <th>SectionMaxPhysical</th>\n",
              "      <th>SectionMinPhysical</th>\n",
              "      <th>SectionMaxVirtual</th>\n",
              "      <th>SectionMinVirtual</th>\n",
              "      <th>SectionMaxPointerData</th>\n",
              "      <th>SectionMinPointerData</th>\n",
              "      <th>SectionMaxChar</th>\n",
              "      <th>SectionMainChar</th>\n",
              "      <th>DirectoryEntryImport</th>\n",
              "      <th>DirectoryEntryImportSize</th>\n",
              "      <th>DirectoryEntryExport</th>\n",
              "      <th>ImageDirectoryEntryExport</th>\n",
              "      <th>ImageDirectoryEntryImport</th>\n",
              "      <th>ImageDirectoryEntryResource</th>\n",
              "      <th>ImageDirectoryEntryException</th>\n",
              "      <th>ImageDirectoryEntrySecurity</th>\n",
              "    </tr>\n",
              "  </thead>\n",
              "  <tbody>\n",
              "    <tr>\n",
              "      <th>5142</th>\n",
              "      <td>VirusShare_efe14d47c7d47b26b5fbbfeb27cf5037</td>\n",
              "      <td>23117</td>\n",
              "      <td>144</td>\n",
              "      <td>3</td>\n",
              "      <td>0</td>\n",
              "      <td>4</td>\n",
              "      <td>0</td>\n",
              "      <td>65535</td>\n",
              "      <td>0</td>\n",
              "      <td>184</td>\n",
              "      <td>0</td>\n",
              "      <td>0</td>\n",
              "      <td>0</td>\n",
              "      <td>64</td>\n",
              "      <td>0</td>\n",
              "      <td>0</td>\n",
              "      <td>0</td>\n",
              "      <td>176</td>\n",
              "      <td>332</td>\n",
              "      <td>3</td>\n",
              "      <td>1333570257</td>\n",
              "      <td>0</td>\n",
              "      <td>0</td>\n",
              "      <td>224</td>\n",
              "      <td>271</td>\n",
              "      <td>267</td>\n",
              "      <td>6</td>\n",
              "      <td>0</td>\n",
              "      <td>81920</td>\n",
              "      <td>20480</td>\n",
              "      <td>0</td>\n",
              "      <td>4472</td>\n",
              "      <td>4096</td>\n",
              "      <td>4194304</td>\n",
              "      <td>4096</td>\n",
              "      <td>4096</td>\n",
              "      <td>4</td>\n",
              "      <td>0</td>\n",
              "      <td>1</td>\n",
              "      <td>0</td>\n",
              "      <td>4</td>\n",
              "      <td>0</td>\n",
              "      <td>4096</td>\n",
              "      <td>133625</td>\n",
              "      <td>106496</td>\n",
              "      <td>2</td>\n",
              "      <td>0</td>\n",
              "      <td>1048576</td>\n",
              "      <td>4096</td>\n",
              "      <td>1048576</td>\n",
              "      <td>4096</td>\n",
              "      <td>0</td>\n",
              "      <td>16</td>\n",
              "      <td>1</td>\n",
              "      <td>0</td>\n",
              "      <td>0</td>\n",
              "      <td>3</td>\n",
              "      <td>0.000000</td>\n",
              "      <td>0</td>\n",
              "      <td>0</td>\n",
              "      <td>0</td>\n",
              "      <td>3964</td>\n",
              "      <td>0</td>\n",
              "      <td>78816</td>\n",
              "      <td>0</td>\n",
              "      <td>90112</td>\n",
              "      <td>0</td>\n",
              "      <td>86016</td>\n",
              "      <td>0</td>\n",
              "      <td>3221225536</td>\n",
              "      <td>0</td>\n",
              "      <td>1</td>\n",
              "      <td>36</td>\n",
              "      <td>0</td>\n",
              "      <td>0</td>\n",
              "      <td>82564</td>\n",
              "      <td>90112</td>\n",
              "      <td>0</td>\n",
              "      <td>0</td>\n",
              "    </tr>\n",
              "    <tr>\n",
              "      <th>4340</th>\n",
              "      <td>VirusShare_8d529bfa7ace65ff6087f9713fd6fbc9</td>\n",
              "      <td>23117</td>\n",
              "      <td>144</td>\n",
              "      <td>3</td>\n",
              "      <td>0</td>\n",
              "      <td>4</td>\n",
              "      <td>0</td>\n",
              "      <td>65535</td>\n",
              "      <td>0</td>\n",
              "      <td>184</td>\n",
              "      <td>0</td>\n",
              "      <td>0</td>\n",
              "      <td>0</td>\n",
              "      <td>64</td>\n",
              "      <td>0</td>\n",
              "      <td>0</td>\n",
              "      <td>0</td>\n",
              "      <td>256</td>\n",
              "      <td>332</td>\n",
              "      <td>5</td>\n",
              "      <td>1387178212</td>\n",
              "      <td>0</td>\n",
              "      <td>0</td>\n",
              "      <td>224</td>\n",
              "      <td>8450</td>\n",
              "      <td>267</td>\n",
              "      <td>8</td>\n",
              "      <td>0</td>\n",
              "      <td>237568</td>\n",
              "      <td>159744</td>\n",
              "      <td>0</td>\n",
              "      <td>214600</td>\n",
              "      <td>4096</td>\n",
              "      <td>1667235840</td>\n",
              "      <td>4096</td>\n",
              "      <td>4096</td>\n",
              "      <td>4</td>\n",
              "      <td>0</td>\n",
              "      <td>0</td>\n",
              "      <td>0</td>\n",
              "      <td>4</td>\n",
              "      <td>0</td>\n",
              "      <td>4096</td>\n",
              "      <td>435202</td>\n",
              "      <td>405504</td>\n",
              "      <td>2</td>\n",
              "      <td>256</td>\n",
              "      <td>1048576</td>\n",
              "      <td>4096</td>\n",
              "      <td>1048576</td>\n",
              "      <td>4096</td>\n",
              "      <td>0</td>\n",
              "      <td>16</td>\n",
              "      <td>1</td>\n",
              "      <td>0</td>\n",
              "      <td>0</td>\n",
              "      <td>5</td>\n",
              "      <td>3.860059</td>\n",
              "      <td>0</td>\n",
              "      <td>4096</td>\n",
              "      <td>0</td>\n",
              "      <td>1496</td>\n",
              "      <td>0</td>\n",
              "      <td>235983</td>\n",
              "      <td>0</td>\n",
              "      <td>372736</td>\n",
              "      <td>0</td>\n",
              "      <td>368640</td>\n",
              "      <td>0</td>\n",
              "      <td>3221225536</td>\n",
              "      <td>0</td>\n",
              "      <td>14</td>\n",
              "      <td>352</td>\n",
              "      <td>5</td>\n",
              "      <td>352048</td>\n",
              "      <td>338788</td>\n",
              "      <td>368640</td>\n",
              "      <td>0</td>\n",
              "      <td>401408</td>\n",
              "    </tr>\n",
              "    <tr>\n",
              "      <th>18638</th>\n",
              "      <td>JavaAccessBridge-32.dll</td>\n",
              "      <td>23117</td>\n",
              "      <td>144</td>\n",
              "      <td>3</td>\n",
              "      <td>0</td>\n",
              "      <td>4</td>\n",
              "      <td>0</td>\n",
              "      <td>65535</td>\n",
              "      <td>0</td>\n",
              "      <td>184</td>\n",
              "      <td>0</td>\n",
              "      <td>0</td>\n",
              "      <td>0</td>\n",
              "      <td>64</td>\n",
              "      <td>0</td>\n",
              "      <td>0</td>\n",
              "      <td>0</td>\n",
              "      <td>232</td>\n",
              "      <td>332</td>\n",
              "      <td>5</td>\n",
              "      <td>1504667863</td>\n",
              "      <td>0</td>\n",
              "      <td>0</td>\n",
              "      <td>224</td>\n",
              "      <td>8450</td>\n",
              "      <td>267</td>\n",
              "      <td>10</td>\n",
              "      <td>0</td>\n",
              "      <td>52224</td>\n",
              "      <td>69120</td>\n",
              "      <td>0</td>\n",
              "      <td>54819</td>\n",
              "      <td>4096</td>\n",
              "      <td>1839595520</td>\n",
              "      <td>4096</td>\n",
              "      <td>512</td>\n",
              "      <td>5</td>\n",
              "      <td>1</td>\n",
              "      <td>0</td>\n",
              "      <td>0</td>\n",
              "      <td>5</td>\n",
              "      <td>1</td>\n",
              "      <td>1024</td>\n",
              "      <td>186400</td>\n",
              "      <td>135168</td>\n",
              "      <td>2</td>\n",
              "      <td>320</td>\n",
              "      <td>1048576</td>\n",
              "      <td>4096</td>\n",
              "      <td>1048576</td>\n",
              "      <td>4096</td>\n",
              "      <td>0</td>\n",
              "      <td>16</td>\n",
              "      <td>0</td>\n",
              "      <td>0</td>\n",
              "      <td>0</td>\n",
              "      <td>5</td>\n",
              "      <td>0.278747</td>\n",
              "      <td>0</td>\n",
              "      <td>512</td>\n",
              "      <td>0</td>\n",
              "      <td>896</td>\n",
              "      <td>0</td>\n",
              "      <td>61718</td>\n",
              "      <td>0</td>\n",
              "      <td>131072</td>\n",
              "      <td>0</td>\n",
              "      <td>117760</td>\n",
              "      <td>0</td>\n",
              "      <td>3221225536</td>\n",
              "      <td>0</td>\n",
              "      <td>3</td>\n",
              "      <td>59</td>\n",
              "      <td>28</td>\n",
              "      <td>116848</td>\n",
              "      <td>115420</td>\n",
              "      <td>126976</td>\n",
              "      <td>0</td>\n",
              "      <td>121856</td>\n",
              "    </tr>\n",
              "    <tr>\n",
              "      <th>14384</th>\n",
              "      <td>VirusShare_e9782a5dfb3076c09043a4656a159c29</td>\n",
              "      <td>23117</td>\n",
              "      <td>144</td>\n",
              "      <td>3</td>\n",
              "      <td>0</td>\n",
              "      <td>4</td>\n",
              "      <td>0</td>\n",
              "      <td>65535</td>\n",
              "      <td>0</td>\n",
              "      <td>184</td>\n",
              "      <td>0</td>\n",
              "      <td>0</td>\n",
              "      <td>0</td>\n",
              "      <td>64</td>\n",
              "      <td>0</td>\n",
              "      <td>0</td>\n",
              "      <td>0</td>\n",
              "      <td>216</td>\n",
              "      <td>332</td>\n",
              "      <td>5</td>\n",
              "      <td>1260053521</td>\n",
              "      <td>0</td>\n",
              "      <td>0</td>\n",
              "      <td>224</td>\n",
              "      <td>271</td>\n",
              "      <td>267</td>\n",
              "      <td>6</td>\n",
              "      <td>0</td>\n",
              "      <td>23040</td>\n",
              "      <td>265728</td>\n",
              "      <td>8192</td>\n",
              "      <td>12491</td>\n",
              "      <td>4096</td>\n",
              "      <td>4194304</td>\n",
              "      <td>4096</td>\n",
              "      <td>512</td>\n",
              "      <td>4</td>\n",
              "      <td>0</td>\n",
              "      <td>6</td>\n",
              "      <td>0</td>\n",
              "      <td>4</td>\n",
              "      <td>0</td>\n",
              "      <td>1024</td>\n",
              "      <td>0</td>\n",
              "      <td>2822144</td>\n",
              "      <td>2</td>\n",
              "      <td>32768</td>\n",
              "      <td>1048576</td>\n",
              "      <td>4096</td>\n",
              "      <td>1048576</td>\n",
              "      <td>4096</td>\n",
              "      <td>0</td>\n",
              "      <td>16</td>\n",
              "      <td>1</td>\n",
              "      <td>0</td>\n",
              "      <td>0</td>\n",
              "      <td>5</td>\n",
              "      <td>0.000000</td>\n",
              "      <td>0</td>\n",
              "      <td>0</td>\n",
              "      <td>0</td>\n",
              "      <td>4496</td>\n",
              "      <td>0</td>\n",
              "      <td>2498560</td>\n",
              "      <td>0</td>\n",
              "      <td>2789376</td>\n",
              "      <td>0</td>\n",
              "      <td>29696</td>\n",
              "      <td>0</td>\n",
              "      <td>3221225600</td>\n",
              "      <td>0</td>\n",
              "      <td>8</td>\n",
              "      <td>155</td>\n",
              "      <td>0</td>\n",
              "      <td>0</td>\n",
              "      <td>29604</td>\n",
              "      <td>2789376</td>\n",
              "      <td>0</td>\n",
              "      <td>0</td>\n",
              "    </tr>\n",
              "    <tr>\n",
              "      <th>15246</th>\n",
              "      <td>scecli.dll</td>\n",
              "      <td>23117</td>\n",
              "      <td>144</td>\n",
              "      <td>3</td>\n",
              "      <td>0</td>\n",
              "      <td>4</td>\n",
              "      <td>0</td>\n",
              "      <td>65535</td>\n",
              "      <td>0</td>\n",
              "      <td>184</td>\n",
              "      <td>0</td>\n",
              "      <td>0</td>\n",
              "      <td>0</td>\n",
              "      <td>64</td>\n",
              "      <td>0</td>\n",
              "      <td>0</td>\n",
              "      <td>0</td>\n",
              "      <td>256</td>\n",
              "      <td>332</td>\n",
              "      <td>5</td>\n",
              "      <td>1377139696</td>\n",
              "      <td>0</td>\n",
              "      <td>0</td>\n",
              "      <td>224</td>\n",
              "      <td>8450</td>\n",
              "      <td>267</td>\n",
              "      <td>11</td>\n",
              "      <td>0</td>\n",
              "      <td>183808</td>\n",
              "      <td>25600</td>\n",
              "      <td>0</td>\n",
              "      <td>4320</td>\n",
              "      <td>4096</td>\n",
              "      <td>1607467008</td>\n",
              "      <td>4096</td>\n",
              "      <td>512</td>\n",
              "      <td>6</td>\n",
              "      <td>3</td>\n",
              "      <td>6</td>\n",
              "      <td>3</td>\n",
              "      <td>6</td>\n",
              "      <td>3</td>\n",
              "      <td>1024</td>\n",
              "      <td>213825</td>\n",
              "      <td>221184</td>\n",
              "      <td>3</td>\n",
              "      <td>320</td>\n",
              "      <td>262144</td>\n",
              "      <td>4096</td>\n",
              "      <td>1048576</td>\n",
              "      <td>4096</td>\n",
              "      <td>0</td>\n",
              "      <td>16</td>\n",
              "      <td>0</td>\n",
              "      <td>9</td>\n",
              "      <td>0</td>\n",
              "      <td>5</td>\n",
              "      <td>2.843098</td>\n",
              "      <td>0</td>\n",
              "      <td>1536</td>\n",
              "      <td>0</td>\n",
              "      <td>1352</td>\n",
              "      <td>0</td>\n",
              "      <td>183415</td>\n",
              "      <td>0</td>\n",
              "      <td>208896</td>\n",
              "      <td>0</td>\n",
              "      <td>196608</td>\n",
              "      <td>0</td>\n",
              "      <td>3221225536</td>\n",
              "      <td>0</td>\n",
              "      <td>25</td>\n",
              "      <td>184</td>\n",
              "      <td>72</td>\n",
              "      <td>4732</td>\n",
              "      <td>197444</td>\n",
              "      <td>204800</td>\n",
              "      <td>0</td>\n",
              "      <td>0</td>\n",
              "    </tr>\n",
              "  </tbody>\n",
              "</table>\n",
              "</div>"
            ],
            "text/plain": [
              "                                              Name  ...  ImageDirectoryEntrySecurity\n",
              "5142   VirusShare_efe14d47c7d47b26b5fbbfeb27cf5037  ...                            0\n",
              "4340   VirusShare_8d529bfa7ace65ff6087f9713fd6fbc9  ...                       401408\n",
              "18638                      JavaAccessBridge-32.dll  ...                       121856\n",
              "14384  VirusShare_e9782a5dfb3076c09043a4656a159c29  ...                            0\n",
              "15246                                   scecli.dll  ...                            0\n",
              "\n",
              "[5 rows x 79 columns]"
            ]
          },
          "metadata": {
            "tags": []
          },
          "execution_count": 7
        }
      ]
    },
    {
      "cell_type": "code",
      "metadata": {
        "id": "dYwu7jOkTa8M"
      },
      "source": [
        "# bch nfasakh Name khater lesemi dima titbadel w easy bch tghaltou in the future\n",
        "# inajem il model ya3mel overfitting 3al name de facon kol ma ira Virus Share i9olik malware\n",
        "# iwali meme pas irakez m3al be9i, just irakiz m3al name\n",
        "dataset.drop('Name',axis=1, inplace=True)"
      ],
      "execution_count": null,
      "outputs": []
    },
    {
      "cell_type": "code",
      "metadata": {
        "id": "GvcQmJ3_Tl4X",
        "colab": {
          "base_uri": "https://localhost:8080/"
        },
        "outputId": "ad5378f4-805c-4f47-880b-64db3368c24f"
      },
      "source": [
        "# isna().sum() gives number of missing values per column\n",
        "# isna().sum().sum() gives total number of missing values in the dataset\n",
        "dataset.isna().sum().sum() \n",
        "#no missing values, parfait"
      ],
      "execution_count": null,
      "outputs": [
        {
          "output_type": "execute_result",
          "data": {
            "text/plain": [
              "0"
            ]
          },
          "metadata": {
            "tags": []
          },
          "execution_count": 9
        }
      ]
    },
    {
      "cell_type": "code",
      "metadata": {
        "id": "fyqhUvcZUF4Z",
        "colab": {
          "base_uri": "https://localhost:8080/"
        },
        "outputId": "db399248-27e3-4f2f-bd90-0b609326940a"
      },
      "source": [
        "dataset.info()\n",
        "# no mistypes, no need to cast types\n",
        "# no objects (strings), no need for categorical encoding"
      ],
      "execution_count": null,
      "outputs": [
        {
          "output_type": "stream",
          "text": [
            "<class 'pandas.core.frame.DataFrame'>\n",
            "RangeIndex: 19611 entries, 0 to 19610\n",
            "Data columns (total 78 columns):\n",
            " #   Column                        Non-Null Count  Dtype  \n",
            "---  ------                        --------------  -----  \n",
            " 0   e_magic                       19611 non-null  int64  \n",
            " 1   e_cblp                        19611 non-null  int64  \n",
            " 2   e_cp                          19611 non-null  int64  \n",
            " 3   e_crlc                        19611 non-null  int64  \n",
            " 4   e_cparhdr                     19611 non-null  int64  \n",
            " 5   e_minalloc                    19611 non-null  int64  \n",
            " 6   e_maxalloc                    19611 non-null  int64  \n",
            " 7   e_ss                          19611 non-null  int64  \n",
            " 8   e_sp                          19611 non-null  int64  \n",
            " 9   e_csum                        19611 non-null  int64  \n",
            " 10  e_ip                          19611 non-null  int64  \n",
            " 11  e_cs                          19611 non-null  int64  \n",
            " 12  e_lfarlc                      19611 non-null  int64  \n",
            " 13  e_ovno                        19611 non-null  int64  \n",
            " 14  e_oemid                       19611 non-null  int64  \n",
            " 15  e_oeminfo                     19611 non-null  int64  \n",
            " 16  e_lfanew                      19611 non-null  int64  \n",
            " 17  Machine                       19611 non-null  int64  \n",
            " 18  NumberOfSections              19611 non-null  int64  \n",
            " 19  TimeDateStamp                 19611 non-null  int64  \n",
            " 20  PointerToSymbolTable          19611 non-null  int64  \n",
            " 21  NumberOfSymbols               19611 non-null  int64  \n",
            " 22  SizeOfOptionalHeader          19611 non-null  int64  \n",
            " 23  Characteristics               19611 non-null  int64  \n",
            " 24  Magic                         19611 non-null  int64  \n",
            " 25  MajorLinkerVersion            19611 non-null  int64  \n",
            " 26  MinorLinkerVersion            19611 non-null  int64  \n",
            " 27  SizeOfCode                    19611 non-null  int64  \n",
            " 28  SizeOfInitializedData         19611 non-null  int64  \n",
            " 29  SizeOfUninitializedData       19611 non-null  int64  \n",
            " 30  AddressOfEntryPoint           19611 non-null  int64  \n",
            " 31  BaseOfCode                    19611 non-null  int64  \n",
            " 32  ImageBase                     19611 non-null  int64  \n",
            " 33  SectionAlignment              19611 non-null  int64  \n",
            " 34  FileAlignment                 19611 non-null  int64  \n",
            " 35  MajorOperatingSystemVersion   19611 non-null  int64  \n",
            " 36  MinorOperatingSystemVersion   19611 non-null  int64  \n",
            " 37  MajorImageVersion             19611 non-null  int64  \n",
            " 38  MinorImageVersion             19611 non-null  int64  \n",
            " 39  MajorSubsystemVersion         19611 non-null  int64  \n",
            " 40  MinorSubsystemVersion         19611 non-null  int64  \n",
            " 41  SizeOfHeaders                 19611 non-null  int64  \n",
            " 42  CheckSum                      19611 non-null  int64  \n",
            " 43  SizeOfImage                   19611 non-null  int64  \n",
            " 44  Subsystem                     19611 non-null  int64  \n",
            " 45  DllCharacteristics            19611 non-null  int64  \n",
            " 46  SizeOfStackReserve            19611 non-null  int64  \n",
            " 47  SizeOfStackCommit             19611 non-null  int64  \n",
            " 48  SizeOfHeapReserve             19611 non-null  int64  \n",
            " 49  SizeOfHeapCommit              19611 non-null  int64  \n",
            " 50  LoaderFlags                   19611 non-null  int64  \n",
            " 51  NumberOfRvaAndSizes           19611 non-null  int64  \n",
            " 52  Malware                       19611 non-null  int64  \n",
            " 53  SuspiciousImportFunctions     19611 non-null  int64  \n",
            " 54  SuspiciousNameSection         19611 non-null  int64  \n",
            " 55  SectionsLength                19611 non-null  int64  \n",
            " 56  SectionMinEntropy             19611 non-null  float64\n",
            " 57  SectionMaxEntropy             19611 non-null  int64  \n",
            " 58  SectionMinRawsize             19611 non-null  int64  \n",
            " 59  SectionMaxRawsize             19611 non-null  int64  \n",
            " 60  SectionMinVirtualsize         19611 non-null  int64  \n",
            " 61  SectionMaxVirtualsize         19611 non-null  int64  \n",
            " 62  SectionMaxPhysical            19611 non-null  int64  \n",
            " 63  SectionMinPhysical            19611 non-null  int64  \n",
            " 64  SectionMaxVirtual             19611 non-null  int64  \n",
            " 65  SectionMinVirtual             19611 non-null  int64  \n",
            " 66  SectionMaxPointerData         19611 non-null  int64  \n",
            " 67  SectionMinPointerData         19611 non-null  int64  \n",
            " 68  SectionMaxChar                19611 non-null  int64  \n",
            " 69  SectionMainChar               19611 non-null  int64  \n",
            " 70  DirectoryEntryImport          19611 non-null  int64  \n",
            " 71  DirectoryEntryImportSize      19611 non-null  int64  \n",
            " 72  DirectoryEntryExport          19611 non-null  int64  \n",
            " 73  ImageDirectoryEntryExport     19611 non-null  int64  \n",
            " 74  ImageDirectoryEntryImport     19611 non-null  int64  \n",
            " 75  ImageDirectoryEntryResource   19611 non-null  int64  \n",
            " 76  ImageDirectoryEntryException  19611 non-null  int64  \n",
            " 77  ImageDirectoryEntrySecurity   19611 non-null  int64  \n",
            "dtypes: float64(1), int64(77)\n",
            "memory usage: 11.7 MB\n"
          ],
          "name": "stdout"
        }
      ]
    },
    {
      "cell_type": "code",
      "metadata": {
        "colab": {
          "base_uri": "https://localhost:8080/"
        },
        "id": "4dVyFBaBUjjQ",
        "outputId": "0312db20-9f2a-4d87-a2b0-2d649e337ddd"
      },
      "source": [
        "dataset['Malware'].value_counts()\n",
        "# 1/4 of the data is not malware --> Class Imbalance"
      ],
      "execution_count": null,
      "outputs": [
        {
          "output_type": "execute_result",
          "data": {
            "text/plain": [
              "1    14599\n",
              "0     5012\n",
              "Name: Malware, dtype: int64"
            ]
          },
          "metadata": {
            "tags": []
          },
          "execution_count": 11
        }
      ]
    },
    {
      "cell_type": "code",
      "metadata": {
        "colab": {
          "base_uri": "https://localhost:8080/"
        },
        "id": "v35oClteU8hr",
        "outputId": "5060c116-aa26-4271-af06-9593e2f8a561"
      },
      "source": [
        "plt.hist(dataset['Malware'])\n",
        "# Big class imabalance (1/4) wa laken  fi cas ta3 antivirus we want the model to be stronk\n",
        "# on the Malware (1) donc nkhaliwha for now haka"
      ],
      "execution_count": null,
      "outputs": [
        {
          "output_type": "execute_result",
          "data": {
            "text/plain": [
              "(array([ 5012.,     0.,     0.,     0.,     0.,     0.,     0.,     0.,\n",
              "            0., 14599.]),\n",
              " array([0. , 0.1, 0.2, 0.3, 0.4, 0.5, 0.6, 0.7, 0.8, 0.9, 1. ]),\n",
              " <a list of 10 Patch objects>)"
            ]
          },
          "metadata": {
            "tags": []
          },
          "execution_count": 12
        },
        {
          "output_type": "display_data",
          "data": {
            "image/png": "[encoded data removed]",
            "text/plain": [
              "<Figure size 432x288 with 1 Axes>"
            ]
          },
          "metadata": {
            "tags": [],
            "needs_background": "light"
          }
        }
      ]
    },
    {
      "cell_type": "code",
      "metadata": {
        "id": "-UG5gMo8V3Se",
        "colab": {
          "base_uri": "https://localhost:8080/"
        },
        "outputId": "0b36d0cd-ac71-466c-c3e0-8179ba2d691d"
      },
      "source": [
        "dataset.describe()\n",
        "# we can remove and encode many features (ex: e_magic)"
      ],
      "execution_count": null,
      "outputs": [
        {
          "output_type": "execute_result",
          "data": {
            "text/html": [
              "<div>\n",
              "<style scoped>\n",
              "    .dataframe tbody tr th:only-of-type {\n",
              "        vertical-align: middle;\n",
              "    }\n",
              "\n",
              "    .dataframe tbody tr th {\n",
              "        vertical-align: top;\n",
              "    }\n",
              "\n",
              "    .dataframe thead th {\n",
              "        text-align: right;\n",
              "    }\n",
              "</style>\n",
              "<table border=\"1\" class=\"dataframe\">\n",
              "  <thead>\n",
              "    <tr style=\"text-align: right;\">\n",
              "      <th></th>\n",
              "      <th>e_magic</th>\n",
              "      <th>e_cblp</th>\n",
              "      <th>e_cp</th>\n",
              "      <th>e_crlc</th>\n",
              "      <th>e_cparhdr</th>\n",
              "      <th>e_minalloc</th>\n",
              "      <th>e_maxalloc</th>\n",
              "      <th>e_ss</th>\n",
              "      <th>e_sp</th>\n",
              "      <th>e_csum</th>\n",
              "      <th>e_ip</th>\n",
              "      <th>e_cs</th>\n",
              "      <th>e_lfarlc</th>\n",
              "      <th>e_ovno</th>\n",
              "      <th>e_oemid</th>\n",
              "      <th>e_oeminfo</th>\n",
              "      <th>e_lfanew</th>\n",
              "      <th>Machine</th>\n",
              "      <th>NumberOfSections</th>\n",
              "      <th>TimeDateStamp</th>\n",
              "      <th>PointerToSymbolTable</th>\n",
              "      <th>NumberOfSymbols</th>\n",
              "      <th>SizeOfOptionalHeader</th>\n",
              "      <th>Characteristics</th>\n",
              "      <th>Magic</th>\n",
              "      <th>MajorLinkerVersion</th>\n",
              "      <th>MinorLinkerVersion</th>\n",
              "      <th>SizeOfCode</th>\n",
              "      <th>SizeOfInitializedData</th>\n",
              "      <th>SizeOfUninitializedData</th>\n",
              "      <th>AddressOfEntryPoint</th>\n",
              "      <th>BaseOfCode</th>\n",
              "      <th>ImageBase</th>\n",
              "      <th>SectionAlignment</th>\n",
              "      <th>FileAlignment</th>\n",
              "      <th>MajorOperatingSystemVersion</th>\n",
              "      <th>MinorOperatingSystemVersion</th>\n",
              "      <th>MajorImageVersion</th>\n",
              "      <th>MinorImageVersion</th>\n",
              "      <th>MajorSubsystemVersion</th>\n",
              "      <th>MinorSubsystemVersion</th>\n",
              "      <th>SizeOfHeaders</th>\n",
              "      <th>CheckSum</th>\n",
              "      <th>SizeOfImage</th>\n",
              "      <th>Subsystem</th>\n",
              "      <th>DllCharacteristics</th>\n",
              "      <th>SizeOfStackReserve</th>\n",
              "      <th>SizeOfStackCommit</th>\n",
              "      <th>SizeOfHeapReserve</th>\n",
              "      <th>SizeOfHeapCommit</th>\n",
              "      <th>LoaderFlags</th>\n",
              "      <th>NumberOfRvaAndSizes</th>\n",
              "      <th>Malware</th>\n",
              "      <th>SuspiciousImportFunctions</th>\n",
              "      <th>SuspiciousNameSection</th>\n",
              "      <th>SectionsLength</th>\n",
              "      <th>SectionMinEntropy</th>\n",
              "      <th>SectionMaxEntropy</th>\n",
              "      <th>SectionMinRawsize</th>\n",
              "      <th>SectionMaxRawsize</th>\n",
              "      <th>SectionMinVirtualsize</th>\n",
              "      <th>SectionMaxVirtualsize</th>\n",
              "      <th>SectionMaxPhysical</th>\n",
              "      <th>SectionMinPhysical</th>\n",
              "      <th>SectionMaxVirtual</th>\n",
              "      <th>SectionMinVirtual</th>\n",
              "      <th>SectionMaxPointerData</th>\n",
              "      <th>SectionMinPointerData</th>\n",
              "      <th>SectionMaxChar</th>\n",
              "      <th>SectionMainChar</th>\n",
              "      <th>DirectoryEntryImport</th>\n",
              "      <th>DirectoryEntryImportSize</th>\n",
              "      <th>DirectoryEntryExport</th>\n",
              "      <th>ImageDirectoryEntryExport</th>\n",
              "      <th>ImageDirectoryEntryImport</th>\n",
              "      <th>ImageDirectoryEntryResource</th>\n",
              "      <th>ImageDirectoryEntryException</th>\n",
              "      <th>ImageDirectoryEntrySecurity</th>\n",
              "    </tr>\n",
              "  </thead>\n",
              "  <tbody>\n",
              "    <tr>\n",
              "      <th>count</th>\n",
              "      <td>19611.0</td>\n",
              "      <td>19611.000000</td>\n",
              "      <td>19611.000000</td>\n",
              "      <td>19611.000000</td>\n",
              "      <td>19611.000000</td>\n",
              "      <td>19611.000000</td>\n",
              "      <td>19611.000000</td>\n",
              "      <td>19611.000000</td>\n",
              "      <td>19611.00000</td>\n",
              "      <td>19611.000000</td>\n",
              "      <td>19611.000000</td>\n",
              "      <td>19611.000000</td>\n",
              "      <td>19611.000000</td>\n",
              "      <td>19611.000000</td>\n",
              "      <td>19611.000000</td>\n",
              "      <td>19611.000000</td>\n",
              "      <td>19611.000000</td>\n",
              "      <td>19611.000000</td>\n",
              "      <td>19611.000000</td>\n",
              "      <td>1.961100e+04</td>\n",
              "      <td>1.961100e+04</td>\n",
              "      <td>1.961100e+04</td>\n",
              "      <td>19611.000000</td>\n",
              "      <td>19611.00000</td>\n",
              "      <td>19611.000000</td>\n",
              "      <td>19611.000000</td>\n",
              "      <td>19611.000000</td>\n",
              "      <td>1.961100e+04</td>\n",
              "      <td>1.961100e+04</td>\n",
              "      <td>1.961100e+04</td>\n",
              "      <td>1.961100e+04</td>\n",
              "      <td>1.961100e+04</td>\n",
              "      <td>1.961100e+04</td>\n",
              "      <td>19611.000000</td>\n",
              "      <td>19611.000000</td>\n",
              "      <td>19611.000000</td>\n",
              "      <td>19611.000000</td>\n",
              "      <td>19611.000000</td>\n",
              "      <td>19611.000000</td>\n",
              "      <td>19611.000000</td>\n",
              "      <td>19611.000000</td>\n",
              "      <td>1.961100e+04</td>\n",
              "      <td>1.961100e+04</td>\n",
              "      <td>1.961100e+04</td>\n",
              "      <td>19611.000000</td>\n",
              "      <td>19611.000000</td>\n",
              "      <td>1.961100e+04</td>\n",
              "      <td>1.961100e+04</td>\n",
              "      <td>1.961100e+04</td>\n",
              "      <td>1.961100e+04</td>\n",
              "      <td>1.961100e+04</td>\n",
              "      <td>1.961100e+04</td>\n",
              "      <td>19611.000000</td>\n",
              "      <td>19611.000000</td>\n",
              "      <td>19611.000000</td>\n",
              "      <td>19611.000000</td>\n",
              "      <td>19611.000000</td>\n",
              "      <td>19611.0</td>\n",
              "      <td>1.961100e+04</td>\n",
              "      <td>19611.0</td>\n",
              "      <td>1.961100e+04</td>\n",
              "      <td>19611.0</td>\n",
              "      <td>1.961100e+04</td>\n",
              "      <td>19611.0</td>\n",
              "      <td>1.961100e+04</td>\n",
              "      <td>19611.0</td>\n",
              "      <td>1.961100e+04</td>\n",
              "      <td>19611.0</td>\n",
              "      <td>1.961100e+04</td>\n",
              "      <td>19611.0</td>\n",
              "      <td>19611.000000</td>\n",
              "      <td>19611.000000</td>\n",
              "      <td>19611.000000</td>\n",
              "      <td>1.961100e+04</td>\n",
              "      <td>1.961100e+04</td>\n",
              "      <td>1.961100e+04</td>\n",
              "      <td>1.961100e+04</td>\n",
              "      <td>1.961100e+04</td>\n",
              "    </tr>\n",
              "    <tr>\n",
              "      <th>mean</th>\n",
              "      <td>23117.0</td>\n",
              "      <td>178.615726</td>\n",
              "      <td>71.660752</td>\n",
              "      <td>49.146958</td>\n",
              "      <td>37.370710</td>\n",
              "      <td>37.032635</td>\n",
              "      <td>64178.739687</td>\n",
              "      <td>10.418490</td>\n",
              "      <td>226.46530</td>\n",
              "      <td>29.689103</td>\n",
              "      <td>107.662434</td>\n",
              "      <td>63.839937</td>\n",
              "      <td>155.523839</td>\n",
              "      <td>92.185610</td>\n",
              "      <td>354.104992</td>\n",
              "      <td>363.403957</td>\n",
              "      <td>220.336750</td>\n",
              "      <td>4852.718678</td>\n",
              "      <td>5.030544</td>\n",
              "      <td>1.283909e+09</td>\n",
              "      <td>6.873241e+06</td>\n",
              "      <td>7.111700e+06</td>\n",
              "      <td>226.173066</td>\n",
              "      <td>5551.12595</td>\n",
              "      <td>300.966243</td>\n",
              "      <td>8.762582</td>\n",
              "      <td>5.119423</td>\n",
              "      <td>1.523875e+06</td>\n",
              "      <td>1.898218e+06</td>\n",
              "      <td>2.687883e+05</td>\n",
              "      <td>8.037910e+06</td>\n",
              "      <td>9.708936e+05</td>\n",
              "      <td>3.106922e+10</td>\n",
              "      <td>4346.067819</td>\n",
              "      <td>874.013972</td>\n",
              "      <td>23.485085</td>\n",
              "      <td>18.022283</td>\n",
              "      <td>52.873744</td>\n",
              "      <td>44.736831</td>\n",
              "      <td>4.769925</td>\n",
              "      <td>14.103921</td>\n",
              "      <td>1.699066e+03</td>\n",
              "      <td>1.154911e+08</td>\n",
              "      <td>1.615545e+06</td>\n",
              "      <td>2.172097</td>\n",
              "      <td>18160.210647</td>\n",
              "      <td>1.074053e+06</td>\n",
              "      <td>7.590221e+03</td>\n",
              "      <td>1.057768e+06</td>\n",
              "      <td>2.376824e+04</td>\n",
              "      <td>1.489712e+06</td>\n",
              "      <td>1.553571e+05</td>\n",
              "      <td>0.744429</td>\n",
              "      <td>5.142675</td>\n",
              "      <td>0.018153</td>\n",
              "      <td>5.030340</td>\n",
              "      <td>1.547795</td>\n",
              "      <td>0.0</td>\n",
              "      <td>2.459628e+04</td>\n",
              "      <td>0.0</td>\n",
              "      <td>2.748368e+04</td>\n",
              "      <td>0.0</td>\n",
              "      <td>7.641715e+05</td>\n",
              "      <td>0.0</td>\n",
              "      <td>9.101676e+05</td>\n",
              "      <td>0.0</td>\n",
              "      <td>2.327726e+07</td>\n",
              "      <td>0.0</td>\n",
              "      <td>3.163632e+09</td>\n",
              "      <td>0.0</td>\n",
              "      <td>6.112437</td>\n",
              "      <td>101.912804</td>\n",
              "      <td>14.131865</td>\n",
              "      <td>3.368566e+05</td>\n",
              "      <td>4.047213e+05</td>\n",
              "      <td>5.555810e+05</td>\n",
              "      <td>1.238834e+06</td>\n",
              "      <td>8.814868e+05</td>\n",
              "    </tr>\n",
              "    <tr>\n",
              "      <th>std</th>\n",
              "      <td>0.0</td>\n",
              "      <td>987.200729</td>\n",
              "      <td>1445.192977</td>\n",
              "      <td>1212.201919</td>\n",
              "      <td>864.515405</td>\n",
              "      <td>915.833139</td>\n",
              "      <td>9110.755873</td>\n",
              "      <td>637.116265</td>\n",
              "      <td>1249.68033</td>\n",
              "      <td>1015.303419</td>\n",
              "      <td>1826.995907</td>\n",
              "      <td>1142.682852</td>\n",
              "      <td>1717.331368</td>\n",
              "      <td>1644.797529</td>\n",
              "      <td>3819.329588</td>\n",
              "      <td>4069.272854</td>\n",
              "      <td>70.195798</td>\n",
              "      <td>11558.504580</td>\n",
              "      <td>2.084433</td>\n",
              "      <td>2.945803e+08</td>\n",
              "      <td>1.344465e+08</td>\n",
              "      <td>1.208990e+08</td>\n",
              "      <td>5.986218</td>\n",
              "      <td>9502.47239</td>\n",
              "      <td>86.844903</td>\n",
              "      <td>9.701518</td>\n",
              "      <td>17.762468</td>\n",
              "      <td>5.162412e+07</td>\n",
              "      <td>6.055686e+07</td>\n",
              "      <td>3.068554e+07</td>\n",
              "      <td>1.085113e+08</td>\n",
              "      <td>5.250490e+07</td>\n",
              "      <td>4.602648e+11</td>\n",
              "      <td>1103.142554</td>\n",
              "      <td>1081.272068</td>\n",
              "      <td>925.940606</td>\n",
              "      <td>812.631879</td>\n",
              "      <td>1259.221050</td>\n",
              "      <td>1063.217530</td>\n",
              "      <td>0.811817</td>\n",
              "      <td>932.235146</td>\n",
              "      <td>1.397772e+04</td>\n",
              "      <td>4.943297e+08</td>\n",
              "      <td>3.400173e+07</td>\n",
              "      <td>0.484759</td>\n",
              "      <td>16397.914722</td>\n",
              "      <td>1.377536e+06</td>\n",
              "      <td>7.600085e+04</td>\n",
              "      <td>5.931658e+05</td>\n",
              "      <td>5.731730e+05</td>\n",
              "      <td>6.259495e+07</td>\n",
              "      <td>1.471899e+07</td>\n",
              "      <td>0.436193</td>\n",
              "      <td>6.865930</td>\n",
              "      <td>0.183114</td>\n",
              "      <td>2.084558</td>\n",
              "      <td>1.810216</td>\n",
              "      <td>0.0</td>\n",
              "      <td>5.055981e+05</td>\n",
              "      <td>0.0</td>\n",
              "      <td>5.057358e+05</td>\n",
              "      <td>0.0</td>\n",
              "      <td>9.044052e+06</td>\n",
              "      <td>0.0</td>\n",
              "      <td>2.095545e+07</td>\n",
              "      <td>0.0</td>\n",
              "      <td>2.918776e+08</td>\n",
              "      <td>0.0</td>\n",
              "      <td>5.860332e+08</td>\n",
              "      <td>0.0</td>\n",
              "      <td>7.525158</td>\n",
              "      <td>127.076767</td>\n",
              "      <td>154.958102</td>\n",
              "      <td>2.181191e+07</td>\n",
              "      <td>4.704601e+06</td>\n",
              "      <td>6.772167e+06</td>\n",
              "      <td>5.868961e+07</td>\n",
              "      <td>2.167579e+07</td>\n",
              "    </tr>\n",
              "    <tr>\n",
              "      <th>min</th>\n",
              "      <td>23117.0</td>\n",
              "      <td>0.000000</td>\n",
              "      <td>0.000000</td>\n",
              "      <td>0.000000</td>\n",
              "      <td>0.000000</td>\n",
              "      <td>0.000000</td>\n",
              "      <td>0.000000</td>\n",
              "      <td>0.000000</td>\n",
              "      <td>0.00000</td>\n",
              "      <td>0.000000</td>\n",
              "      <td>0.000000</td>\n",
              "      <td>0.000000</td>\n",
              "      <td>0.000000</td>\n",
              "      <td>0.000000</td>\n",
              "      <td>0.000000</td>\n",
              "      <td>0.000000</td>\n",
              "      <td>12.000000</td>\n",
              "      <td>332.000000</td>\n",
              "      <td>1.000000</td>\n",
              "      <td>0.000000e+00</td>\n",
              "      <td>0.000000e+00</td>\n",
              "      <td>0.000000e+00</td>\n",
              "      <td>144.000000</td>\n",
              "      <td>2.00000</td>\n",
              "      <td>267.000000</td>\n",
              "      <td>0.000000</td>\n",
              "      <td>0.000000</td>\n",
              "      <td>0.000000e+00</td>\n",
              "      <td>0.000000e+00</td>\n",
              "      <td>0.000000e+00</td>\n",
              "      <td>0.000000e+00</td>\n",
              "      <td>0.000000e+00</td>\n",
              "      <td>0.000000e+00</td>\n",
              "      <td>16.000000</td>\n",
              "      <td>16.000000</td>\n",
              "      <td>0.000000</td>\n",
              "      <td>0.000000</td>\n",
              "      <td>0.000000</td>\n",
              "      <td>0.000000</td>\n",
              "      <td>0.000000</td>\n",
              "      <td>0.000000</td>\n",
              "      <td>5.040000e+02</td>\n",
              "      <td>0.000000e+00</td>\n",
              "      <td>0.000000e+00</td>\n",
              "      <td>1.000000</td>\n",
              "      <td>0.000000</td>\n",
              "      <td>0.000000e+00</td>\n",
              "      <td>0.000000e+00</td>\n",
              "      <td>0.000000e+00</td>\n",
              "      <td>0.000000e+00</td>\n",
              "      <td>0.000000e+00</td>\n",
              "      <td>6.000000e+00</td>\n",
              "      <td>0.000000</td>\n",
              "      <td>0.000000</td>\n",
              "      <td>0.000000</td>\n",
              "      <td>1.000000</td>\n",
              "      <td>0.000000</td>\n",
              "      <td>0.0</td>\n",
              "      <td>0.000000e+00</td>\n",
              "      <td>0.0</td>\n",
              "      <td>0.000000e+00</td>\n",
              "      <td>0.0</td>\n",
              "      <td>0.000000e+00</td>\n",
              "      <td>0.0</td>\n",
              "      <td>4.000000e+03</td>\n",
              "      <td>0.0</td>\n",
              "      <td>5.120000e+02</td>\n",
              "      <td>0.0</td>\n",
              "      <td>1.073742e+09</td>\n",
              "      <td>0.0</td>\n",
              "      <td>0.000000</td>\n",
              "      <td>0.000000</td>\n",
              "      <td>0.000000</td>\n",
              "      <td>0.000000e+00</td>\n",
              "      <td>0.000000e+00</td>\n",
              "      <td>0.000000e+00</td>\n",
              "      <td>0.000000e+00</td>\n",
              "      <td>0.000000e+00</td>\n",
              "    </tr>\n",
              "    <tr>\n",
              "      <th>25%</th>\n",
              "      <td>23117.0</td>\n",
              "      <td>144.000000</td>\n",
              "      <td>3.000000</td>\n",
              "      <td>0.000000</td>\n",
              "      <td>4.000000</td>\n",
              "      <td>0.000000</td>\n",
              "      <td>65535.000000</td>\n",
              "      <td>0.000000</td>\n",
              "      <td>184.00000</td>\n",
              "      <td>0.000000</td>\n",
              "      <td>0.000000</td>\n",
              "      <td>0.000000</td>\n",
              "      <td>64.000000</td>\n",
              "      <td>0.000000</td>\n",
              "      <td>0.000000</td>\n",
              "      <td>0.000000</td>\n",
              "      <td>208.000000</td>\n",
              "      <td>332.000000</td>\n",
              "      <td>4.000000</td>\n",
              "      <td>1.271377e+09</td>\n",
              "      <td>0.000000e+00</td>\n",
              "      <td>0.000000e+00</td>\n",
              "      <td>224.000000</td>\n",
              "      <td>258.00000</td>\n",
              "      <td>267.000000</td>\n",
              "      <td>6.000000</td>\n",
              "      <td>0.000000</td>\n",
              "      <td>2.099200e+04</td>\n",
              "      <td>1.484800e+04</td>\n",
              "      <td>0.000000e+00</td>\n",
              "      <td>7.784000e+03</td>\n",
              "      <td>4.096000e+03</td>\n",
              "      <td>4.194304e+06</td>\n",
              "      <td>4096.000000</td>\n",
              "      <td>512.000000</td>\n",
              "      <td>4.000000</td>\n",
              "      <td>0.000000</td>\n",
              "      <td>0.000000</td>\n",
              "      <td>0.000000</td>\n",
              "      <td>4.000000</td>\n",
              "      <td>0.000000</td>\n",
              "      <td>1.024000e+03</td>\n",
              "      <td>4.476000e+03</td>\n",
              "      <td>9.830400e+04</td>\n",
              "      <td>2.000000</td>\n",
              "      <td>0.000000</td>\n",
              "      <td>1.048576e+06</td>\n",
              "      <td>4.096000e+03</td>\n",
              "      <td>1.048576e+06</td>\n",
              "      <td>4.096000e+03</td>\n",
              "      <td>0.000000e+00</td>\n",
              "      <td>1.600000e+01</td>\n",
              "      <td>0.000000</td>\n",
              "      <td>0.000000</td>\n",
              "      <td>0.000000</td>\n",
              "      <td>4.000000</td>\n",
              "      <td>0.000000</td>\n",
              "      <td>0.0</td>\n",
              "      <td>0.000000e+00</td>\n",
              "      <td>0.0</td>\n",
              "      <td>3.240000e+02</td>\n",
              "      <td>0.0</td>\n",
              "      <td>5.342950e+04</td>\n",
              "      <td>0.0</td>\n",
              "      <td>7.782400e+04</td>\n",
              "      <td>0.0</td>\n",
              "      <td>4.556800e+04</td>\n",
              "      <td>0.0</td>\n",
              "      <td>3.221226e+09</td>\n",
              "      <td>0.0</td>\n",
              "      <td>2.000000</td>\n",
              "      <td>17.000000</td>\n",
              "      <td>0.000000</td>\n",
              "      <td>0.000000e+00</td>\n",
              "      <td>2.960400e+04</td>\n",
              "      <td>4.096000e+04</td>\n",
              "      <td>0.000000e+00</td>\n",
              "      <td>0.000000e+00</td>\n",
              "    </tr>\n",
              "    <tr>\n",
              "      <th>50%</th>\n",
              "      <td>23117.0</td>\n",
              "      <td>144.000000</td>\n",
              "      <td>3.000000</td>\n",
              "      <td>0.000000</td>\n",
              "      <td>4.000000</td>\n",
              "      <td>0.000000</td>\n",
              "      <td>65535.000000</td>\n",
              "      <td>0.000000</td>\n",
              "      <td>184.00000</td>\n",
              "      <td>0.000000</td>\n",
              "      <td>0.000000</td>\n",
              "      <td>0.000000</td>\n",
              "      <td>64.000000</td>\n",
              "      <td>0.000000</td>\n",
              "      <td>0.000000</td>\n",
              "      <td>0.000000</td>\n",
              "      <td>232.000000</td>\n",
              "      <td>332.000000</td>\n",
              "      <td>5.000000</td>\n",
              "      <td>1.366649e+09</td>\n",
              "      <td>0.000000e+00</td>\n",
              "      <td>0.000000e+00</td>\n",
              "      <td>224.000000</td>\n",
              "      <td>271.00000</td>\n",
              "      <td>267.000000</td>\n",
              "      <td>9.000000</td>\n",
              "      <td>0.000000</td>\n",
              "      <td>5.683200e+04</td>\n",
              "      <td>5.785600e+04</td>\n",
              "      <td>0.000000e+00</td>\n",
              "      <td>3.135100e+04</td>\n",
              "      <td>4.096000e+03</td>\n",
              "      <td>4.194304e+06</td>\n",
              "      <td>4096.000000</td>\n",
              "      <td>512.000000</td>\n",
              "      <td>5.000000</td>\n",
              "      <td>0.000000</td>\n",
              "      <td>1.000000</td>\n",
              "      <td>0.000000</td>\n",
              "      <td>5.000000</td>\n",
              "      <td>0.000000</td>\n",
              "      <td>1.024000e+03</td>\n",
              "      <td>2.055330e+05</td>\n",
              "      <td>2.785280e+05</td>\n",
              "      <td>2.000000</td>\n",
              "      <td>32768.000000</td>\n",
              "      <td>1.048576e+06</td>\n",
              "      <td>4.096000e+03</td>\n",
              "      <td>1.048576e+06</td>\n",
              "      <td>4.096000e+03</td>\n",
              "      <td>0.000000e+00</td>\n",
              "      <td>1.600000e+01</td>\n",
              "      <td>1.000000</td>\n",
              "      <td>2.000000</td>\n",
              "      <td>0.000000</td>\n",
              "      <td>5.000000</td>\n",
              "      <td>0.402634</td>\n",
              "      <td>0.0</td>\n",
              "      <td>5.120000e+02</td>\n",
              "      <td>0.0</td>\n",
              "      <td>1.736000e+03</td>\n",
              "      <td>0.0</td>\n",
              "      <td>1.594600e+05</td>\n",
              "      <td>0.0</td>\n",
              "      <td>1.884160e+05</td>\n",
              "      <td>0.0</td>\n",
              "      <td>1.413120e+05</td>\n",
              "      <td>0.0</td>\n",
              "      <td>3.221226e+09</td>\n",
              "      <td>0.0</td>\n",
              "      <td>4.000000</td>\n",
              "      <td>80.000000</td>\n",
              "      <td>0.000000</td>\n",
              "      <td>0.000000e+00</td>\n",
              "      <td>8.222400e+04</td>\n",
              "      <td>1.310720e+05</td>\n",
              "      <td>0.000000e+00</td>\n",
              "      <td>0.000000e+00</td>\n",
              "    </tr>\n",
              "    <tr>\n",
              "      <th>75%</th>\n",
              "      <td>23117.0</td>\n",
              "      <td>144.000000</td>\n",
              "      <td>3.000000</td>\n",
              "      <td>0.000000</td>\n",
              "      <td>4.000000</td>\n",
              "      <td>0.000000</td>\n",
              "      <td>65535.000000</td>\n",
              "      <td>0.000000</td>\n",
              "      <td>184.00000</td>\n",
              "      <td>0.000000</td>\n",
              "      <td>0.000000</td>\n",
              "      <td>0.000000</td>\n",
              "      <td>64.000000</td>\n",
              "      <td>0.000000</td>\n",
              "      <td>0.000000</td>\n",
              "      <td>0.000000</td>\n",
              "      <td>248.000000</td>\n",
              "      <td>332.000000</td>\n",
              "      <td>6.000000</td>\n",
              "      <td>1.380437e+09</td>\n",
              "      <td>0.000000e+00</td>\n",
              "      <td>0.000000e+00</td>\n",
              "      <td>224.000000</td>\n",
              "      <td>8450.00000</td>\n",
              "      <td>267.000000</td>\n",
              "      <td>11.000000</td>\n",
              "      <td>0.000000</td>\n",
              "      <td>1.551360e+05</td>\n",
              "      <td>3.082240e+05</td>\n",
              "      <td>0.000000e+00</td>\n",
              "      <td>9.892100e+04</td>\n",
              "      <td>4.096000e+03</td>\n",
              "      <td>2.684355e+08</td>\n",
              "      <td>4096.000000</td>\n",
              "      <td>512.000000</td>\n",
              "      <td>5.000000</td>\n",
              "      <td>1.000000</td>\n",
              "      <td>6.000000</td>\n",
              "      <td>1.000000</td>\n",
              "      <td>5.000000</td>\n",
              "      <td>1.000000</td>\n",
              "      <td>1.024000e+03</td>\n",
              "      <td>7.015125e+05</td>\n",
              "      <td>6.225920e+05</td>\n",
              "      <td>2.000000</td>\n",
              "      <td>33088.000000</td>\n",
              "      <td>1.048576e+06</td>\n",
              "      <td>4.096000e+03</td>\n",
              "      <td>1.048576e+06</td>\n",
              "      <td>4.096000e+03</td>\n",
              "      <td>0.000000e+00</td>\n",
              "      <td>1.600000e+01</td>\n",
              "      <td>1.000000</td>\n",
              "      <td>8.000000</td>\n",
              "      <td>0.000000</td>\n",
              "      <td>6.000000</td>\n",
              "      <td>2.972017</td>\n",
              "      <td>0.0</td>\n",
              "      <td>4.096000e+03</td>\n",
              "      <td>0.0</td>\n",
              "      <td>6.578000e+03</td>\n",
              "      <td>0.0</td>\n",
              "      <td>3.901155e+05</td>\n",
              "      <td>0.0</td>\n",
              "      <td>5.406720e+05</td>\n",
              "      <td>0.0</td>\n",
              "      <td>4.057600e+05</td>\n",
              "      <td>0.0</td>\n",
              "      <td>3.221226e+09</td>\n",
              "      <td>0.0</td>\n",
              "      <td>8.000000</td>\n",
              "      <td>135.000000</td>\n",
              "      <td>0.000000</td>\n",
              "      <td>0.000000e+00</td>\n",
              "      <td>2.477080e+05</td>\n",
              "      <td>3.870720e+05</td>\n",
              "      <td>0.000000e+00</td>\n",
              "      <td>3.184640e+05</td>\n",
              "    </tr>\n",
              "    <tr>\n",
              "      <th>max</th>\n",
              "      <td>23117.0</td>\n",
              "      <td>59448.000000</td>\n",
              "      <td>63200.000000</td>\n",
              "      <td>64613.000000</td>\n",
              "      <td>43690.000000</td>\n",
              "      <td>43690.000000</td>\n",
              "      <td>65535.000000</td>\n",
              "      <td>61436.000000</td>\n",
              "      <td>65464.00000</td>\n",
              "      <td>63262.000000</td>\n",
              "      <td>60447.000000</td>\n",
              "      <td>43690.000000</td>\n",
              "      <td>57534.000000</td>\n",
              "      <td>59648.000000</td>\n",
              "      <td>63488.000000</td>\n",
              "      <td>64484.000000</td>\n",
              "      <td>3488.000000</td>\n",
              "      <td>34404.000000</td>\n",
              "      <td>79.000000</td>\n",
              "      <td>4.291612e+09</td>\n",
              "      <td>4.283477e+09</td>\n",
              "      <td>4.194304e+09</td>\n",
              "      <td>328.000000</td>\n",
              "      <td>41359.00000</td>\n",
              "      <td>523.000000</td>\n",
              "      <td>255.000000</td>\n",
              "      <td>255.000000</td>\n",
              "      <td>3.338989e+09</td>\n",
              "      <td>4.294961e+09</td>\n",
              "      <td>4.294919e+09</td>\n",
              "      <td>3.490505e+09</td>\n",
              "      <td>3.502221e+09</td>\n",
              "      <td>8.793756e+12</td>\n",
              "      <td>65536.000000</td>\n",
              "      <td>4096.000000</td>\n",
              "      <td>57972.000000</td>\n",
              "      <td>59090.000000</td>\n",
              "      <td>64416.000000</td>\n",
              "      <td>54891.000000</td>\n",
              "      <td>10.000000</td>\n",
              "      <td>65282.000000</td>\n",
              "      <td>1.093632e+06</td>\n",
              "      <td>4.294967e+09</td>\n",
              "      <td>3.221332e+09</td>\n",
              "      <td>16.000000</td>\n",
              "      <td>57379.000000</td>\n",
              "      <td>3.355443e+07</td>\n",
              "      <td>8.192000e+06</td>\n",
              "      <td>6.291456e+07</td>\n",
              "      <td>1.684685e+07</td>\n",
              "      <td>4.294954e+09</td>\n",
              "      <td>1.479394e+09</td>\n",
              "      <td>1.000000</td>\n",
              "      <td>45.000000</td>\n",
              "      <td>4.000000</td>\n",
              "      <td>79.000000</td>\n",
              "      <td>7.989859</td>\n",
              "      <td>0.0</td>\n",
              "      <td>4.884736e+07</td>\n",
              "      <td>0.0</td>\n",
              "      <td>4.884710e+07</td>\n",
              "      <td>0.0</td>\n",
              "      <td>8.302964e+08</td>\n",
              "      <td>0.0</td>\n",
              "      <td>2.684355e+09</td>\n",
              "      <td>0.0</td>\n",
              "      <td>3.763037e+09</td>\n",
              "      <td>0.0</td>\n",
              "      <td>4.294967e+09</td>\n",
              "      <td>0.0</td>\n",
              "      <td>588.000000</td>\n",
              "      <td>4016.000000</td>\n",
              "      <td>7319.000000</td>\n",
              "      <td>2.147484e+09</td>\n",
              "      <td>5.368914e+08</td>\n",
              "      <td>8.304108e+08</td>\n",
              "      <td>2.906159e+09</td>\n",
              "      <td>2.415919e+09</td>\n",
              "    </tr>\n",
              "  </tbody>\n",
              "</table>\n",
              "</div>"
            ],
            "text/plain": [
              "       e_magic  ...  ImageDirectoryEntrySecurity\n",
              "count  19611.0  ...                 1.961100e+04\n",
              "mean   23117.0  ...                 8.814868e+05\n",
              "std        0.0  ...                 2.167579e+07\n",
              "min    23117.0  ...                 0.000000e+00\n",
              "25%    23117.0  ...                 0.000000e+00\n",
              "50%    23117.0  ...                 0.000000e+00\n",
              "75%    23117.0  ...                 3.184640e+05\n",
              "max    23117.0  ...                 2.415919e+09\n",
              "\n",
              "[8 rows x 78 columns]"
            ]
          },
          "metadata": {
            "tags": []
          },
          "execution_count": 13
        }
      ]
    },
    {
      "cell_type": "markdown",
      "metadata": {
        "id": "01rzw3yNWyuS"
      },
      "source": [
        "#### Data Preparation"
      ]
    },
    {
      "cell_type": "code",
      "metadata": {
        "id": "O9F6UWk0Xsge"
      },
      "source": [
        "X = dataset.drop('Malware', axis=1)\n",
        "y = dataset['Malware']"
      ],
      "execution_count": null,
      "outputs": []
    },
    {
      "cell_type": "code",
      "metadata": {
        "id": "Gk_EMzBnW7Cu"
      },
      "source": [
        "from sklearn.model_selection import train_test_split\n",
        "\n",
        "X_train, X_test, y_train, y_test = train_test_split(X, y, test_size=0.2, random_state=10)"
      ],
      "execution_count": null,
      "outputs": []
    },
    {
      "cell_type": "markdown",
      "metadata": {
        "id": "WGHejT8tW1zB"
      },
      "source": [
        "#### Machine Learning"
      ]
    },
    {
      "cell_type": "code",
      "metadata": {
        "id": "VUT0bVcaa36g"
      },
      "source": [
        "# Importation des modèles\n",
        "from sklearn.linear_model import LogisticRegression\n",
        "from sklearn.neighbors import KNeighborsClassifier\n",
        "from sklearn.svm import SVC\n",
        "# Instantiation des modèles\n",
        "#svm = SVC()\n",
        "knn = KNeighborsClassifier()\n",
        "log = LogisticRegression()"
      ],
      "execution_count": null,
      "outputs": []
    },
    {
      "cell_type": "code",
      "metadata": {
        "id": "rbB_60aIbgby"
      },
      "source": [
        "# Train\n",
        "log.fit(X_train, y_train)\n",
        "svm.fit(X_train, y_train)\n",
        "knn.fit(X_train, y_train)\n",
        "# underfitting --> right fit --> overfitting\n",
        "# If train score low (and/or test score low) --> underfitting\n",
        "# If train score very higher than test score --> overfitting\n",
        "# If train score and test score similar --> the right fit\n",
        "\n",
        "# if le cas spécial where train score taya7 and test score 3ali then do many train_test_splits"
      ],
      "execution_count": null,
      "outputs": []
    },
    {
      "cell_type": "code",
      "metadata": {
        "colab": {
          "base_uri": "https://localhost:8080/"
        },
        "id": "qymrGnHjbn14",
        "outputId": "644ba1e5-5188-4300-8805-7c1d57e77bb4"
      },
      "source": [
        "# Evaluation\n",
        "print(log.score(X_train, y_train), log.score(X_test, y_test)) #.score calculates the accuracy of the model\n",
        "# Underfitting"
      ],
      "execution_count": null,
      "outputs": [
        {
          "output_type": "stream",
          "text": [
            "0.2532508924018358 0.2648483303594188\n"
          ],
          "name": "stdout"
        }
      ]
    },
    {
      "cell_type": "code",
      "metadata": {
        "colab": {
          "base_uri": "https://localhost:8080/"
        },
        "id": "AQ_b1U_UcBLw",
        "outputId": "9a355c66-9ee9-444d-b632-52a7b8d58bab"
      },
      "source": [
        "svm.score(X_test, y_test)"
      ],
      "execution_count": null,
      "outputs": [
        {
          "output_type": "execute_result",
          "data": {
            "text/plain": [
              "0.7392301809839409"
            ]
          },
          "metadata": {
            "tags": []
          },
          "execution_count": 66
        }
      ]
    },
    {
      "cell_type": "code",
      "metadata": {
        "colab": {
          "base_uri": "https://localhost:8080/"
        },
        "id": "VmxIGT6EcBfm",
        "outputId": "d75a95a3-9a09-463f-8230-d42d9062782e"
      },
      "source": [
        "print(  round(knn.score(X_train, y_train),4) )\n",
        "print(  round(knn.score(X_test, y_test)  ,4) )\n",
        "# The right fit"
      ],
      "execution_count": null,
      "outputs": [
        {
          "output_type": "stream",
          "text": [
            "0.9883\n",
            "0.9873\n"
          ],
          "name": "stdout"
        }
      ]
    },
    {
      "cell_type": "code",
      "metadata": {
        "id": "QnLGXSM82VT2"
      },
      "source": [
        "# Ovefitting if train score >> test score "
      ],
      "execution_count": null,
      "outputs": []
    },
    {
      "cell_type": "code",
      "metadata": {
        "id": "oSV_qdsJ164P"
      },
      "source": [
        "0 - 0 --> parfait\n",
        "0 - 1 --> ghalta\n",
        "1 - 0 --> ghalta\n",
        "1 - 1 --> parfait\n",
        "\n",
        "accuracy ta3tini mesure globale ta3 9adeh jib s7i7 en total\n",
        "recall ta3tini mesure ta3 9adeh min 1 jibtou 0 (9adeh min malware ma chla9tich bih) <----- AHAM HAJA\n",
        "precision ta3tini mesure 9adeh min 0 jibtou 1 (9adeh min prog 3adi fibeli bih virus)"
      ],
      "execution_count": null,
      "outputs": []
    },
    {
      "cell_type": "code",
      "metadata": {
        "id": "9g8AjYfN5R2T"
      },
      "source": [
        "predictions = svm.predict(X_test)\n",
        "accuracy_score(y_test,predictions)\n",
        "# is the same as\n",
        "svm.score(X_test,y_test)"
      ],
      "execution_count": null,
      "outputs": []
    },
    {
      "cell_type": "code",
      "metadata": {
        "id": "sxqDgSYBvG-k"
      },
      "source": [
        "from sklearn.metrics import accuracy_score, precision_score, recall_score, f1_score\n",
        "\n",
        "predictions_svm = svm.predict(X_test)\n",
        "predictions_knn = knn.predict(X_test)"
      ],
      "execution_count": null,
      "outputs": []
    },
    {
      "cell_type": "code",
      "metadata": {
        "id": "Ga0Nm7Ib35wd"
      },
      "source": [
        "acc = accuracy_score(y_test,predictions)\n",
        "rec = recall_score(y_test,predictions)\n",
        "prec = precision_score(y_test,predictions)\n",
        "f1 = f1_score(y_test, predictions)"
      ],
      "execution_count": null,
      "outputs": []
    },
    {
      "cell_type": "code",
      "metadata": {
        "colab": {
          "base_uri": "https://localhost:8080/"
        },
        "id": "Tsxab8_M49_Z",
        "outputId": "468ee465-a497-40fb-e8e4-af89e4bd5d88"
      },
      "source": [
        "print(acc, rec, prec, f1) \n",
        "# while recall is perfect, precision 7ala meaning that the model is giving too many 1s which is not balanced"
      ],
      "execution_count": null,
      "outputs": [
        {
          "output_type": "stream",
          "text": [
            "0.7392301809839409 1.0 0.738162272843614 0.8493594463260198\n"
          ],
          "name": "stdout"
        }
      ]
    },
    {
      "cell_type": "code",
      "metadata": {
        "colab": {
          "base_uri": "https://localhost:8080/"
        },
        "id": "728JChl-4zUx",
        "outputId": "4951214f-1ee2-43e9-af1e-b5ae91954b53"
      },
      "source": [
        "print(acc, rec, prec, f1)\n",
        "# All values are balanced, perfect"
      ],
      "execution_count": null,
      "outputs": [
        {
          "output_type": "stream",
          "text": [
            "0.987254652052001 0.9941054091539528 0.9886206896551725 0.9913554633471646\n"
          ],
          "name": "stdout"
        }
      ]
    },
    {
      "cell_type": "code",
      "metadata": {
        "id": "XO6-XCCc6MI2"
      },
      "source": [
        "from sklearn.metrics import classification_report\n",
        "# all values are balanced\n",
        "print(classification_report(y_test, predictions_knn))"
      ],
      "execution_count": null,
      "outputs": []
    },
    {
      "cell_type": "code",
      "metadata": {
        "colab": {
          "base_uri": "https://localhost:8080/"
        },
        "id": "kKs2BpUk6eg3",
        "outputId": "429b86ed-9778-415e-e923-e7ea1b3546ff"
      },
      "source": [
        "print(classification_report(y_test, predictions_svm))\n",
        "# Recal for the non-malware label (0) is terrible, so discard SVM"
      ],
      "execution_count": null,
      "outputs": [
        {
          "output_type": "stream",
          "text": [
            "              precision    recall  f1-score   support\n",
            "\n",
            "           0       1.00      0.02      0.03      1039\n",
            "           1       0.74      1.00      0.85      2884\n",
            "\n",
            "    accuracy                           0.74      3923\n",
            "   macro avg       0.87      0.51      0.44      3923\n",
            "weighted avg       0.81      0.74      0.63      3923\n",
            "\n"
          ],
          "name": "stdout"
        }
      ]
    },
    {
      "cell_type": "code",
      "metadata": {
        "id": "jXJZmp-O6z9B"
      },
      "source": [
        "from sklearn.metrics import classification_report"
      ],
      "execution_count": null,
      "outputs": []
    },
    {
      "cell_type": "code",
      "metadata": {
        "id": "OvNHY-9uAxo4"
      },
      "source": [
        "from sklearn.tree import DecisionTreeClassifier\n",
        "tree = DecisionTreeClassifier()"
      ],
      "execution_count": null,
      "outputs": []
    },
    {
      "cell_type": "code",
      "metadata": {
        "id": "t6Pt4h4zBZgl",
        "colab": {
          "base_uri": "https://localhost:8080/"
        },
        "outputId": "c3dd09a3-828f-49d7-996e-d1e9b6f05d7c"
      },
      "source": [
        "tree.fit(X_train, y_train)"
      ],
      "execution_count": null,
      "outputs": [
        {
          "output_type": "execute_result",
          "data": {
            "text/plain": [
              "DecisionTreeClassifier(ccp_alpha=0.0, class_weight=None, criterion='gini',\n",
              "                       max_depth=None, max_features=None, max_leaf_nodes=None,\n",
              "                       min_impurity_decrease=0.0, min_impurity_split=None,\n",
              "                       min_samples_leaf=1, min_samples_split=2,\n",
              "                       min_weight_fraction_leaf=0.0, presort='deprecated',\n",
              "                       random_state=None, splitter='best')"
            ]
          },
          "metadata": {
            "tags": []
          },
          "execution_count": 36
        }
      ]
    },
    {
      "cell_type": "code",
      "metadata": {
        "colab": {
          "base_uri": "https://localhost:8080/"
        },
        "id": "e3722HdtBcwx",
        "outputId": "ba36e476-8759-4822-e41c-ba7e3cf18d7d"
      },
      "source": [
        "predictions_tree = tree.predict(X_test)\n",
        "print(classification_report(y_test, predictions_tree))"
      ],
      "execution_count": null,
      "outputs": [
        {
          "output_type": "stream",
          "text": [
            "              precision    recall  f1-score   support\n",
            "\n",
            "           0       0.98      0.98      0.98      1039\n",
            "           1       0.99      0.99      0.99      2884\n",
            "\n",
            "    accuracy                           0.99      3923\n",
            "   macro avg       0.99      0.99      0.99      3923\n",
            "weighted avg       0.99      0.99      0.99      3923\n",
            "\n"
          ],
          "name": "stdout"
        }
      ]
    },
    {
      "cell_type": "code",
      "metadata": {
        "id": "PcWGYV2HBvys"
      },
      "source": [
        "tree.feature_importances_ # 9adeh les valeurs ta3 kol feature 9adeh 3awnet"
      ],
      "execution_count": null,
      "outputs": []
    },
    {
      "cell_type": "code",
      "metadata": {
        "id": "1_64A2_hCSJN"
      },
      "source": [
        "dataset.columns # ta3tini esemi les colonnes b nafs nidham ta3 feature_importances_"
      ],
      "execution_count": null,
      "outputs": []
    },
    {
      "cell_type": "code",
      "metadata": {
        "id": "46tyZCAaCZIc"
      },
      "source": [
        "sorted(list(zip(tree.feature_importances_, X.columns)), reverse=True)\n",
        "# ya3mali list ta3 kol colonne chnaw importance te3ha w mnadhma min a3la wa7da li a9al wa7da"
      ],
      "execution_count": null,
      "outputs": []
    },
    {
      "cell_type": "code",
      "metadata": {
        "id": "TQyl4ReWDToE"
      },
      "source": [
        "features = dataset[['MajorSubsystemVersion', 'Subsystem', 'MajorLinkerVersion', 'TimeDateStamp', 'CheckSum']]\n",
        "labels = dataset['Malware']"
      ],
      "execution_count": null,
      "outputs": []
    },
    {
      "cell_type": "code",
      "metadata": {
        "id": "Pn-tuLmYDzgs"
      },
      "source": [
        "X_train, X_test, y_train, y_test = train_test_split(features, labels, test_size=0.2, random_state=10)"
      ],
      "execution_count": null,
      "outputs": []
    },
    {
      "cell_type": "code",
      "metadata": {
        "colab": {
          "base_uri": "https://localhost:8080/"
        },
        "id": "OhnRWSqfDkoY",
        "outputId": "f625b8a3-9d64-4b07-bcf0-77a46cdcc3c3"
      },
      "source": [
        "log.fit(X_train, y_train)  # before kenit 0.26 accuracy w taw 74 accuracy\n",
        "svm.fit(X_train, y_train) # nafsou\n",
        "knn.fit(X_train, y_train) # ta7 chwaya\n",
        "tree.fit(X_train, y_train) # ta7 chwaya"
      ],
      "execution_count": null,
      "outputs": [
        {
          "output_type": "execute_result",
          "data": {
            "text/plain": [
              "DecisionTreeClassifier(ccp_alpha=0.0, class_weight=None, criterion='gini',\n",
              "                       max_depth=None, max_features=None, max_leaf_nodes=None,\n",
              "                       min_impurity_decrease=0.0, min_impurity_split=None,\n",
              "                       min_samples_leaf=1, min_samples_split=2,\n",
              "                       min_weight_fraction_leaf=0.0, presort='deprecated',\n",
              "                       random_state=None, splitter='best')"
            ]
          },
          "metadata": {
            "tags": []
          },
          "execution_count": 116
        }
      ]
    },
    {
      "cell_type": "code",
      "metadata": {
        "colab": {
          "base_uri": "https://localhost:8080/"
        },
        "id": "q28fu0aWDvbw",
        "outputId": "f17792da-c9ab-4b21-9608-8e04ab405410"
      },
      "source": [
        "print(classification_report(y_test, tree.predict(X_test)))"
      ],
      "execution_count": null,
      "outputs": [
        {
          "output_type": "stream",
          "text": [
            "              precision    recall  f1-score   support\n",
            "\n",
            "           0       0.97      0.97      0.97      1039\n",
            "           1       0.99      0.99      0.99      2884\n",
            "\n",
            "    accuracy                           0.98      3923\n",
            "   macro avg       0.98      0.98      0.98      3923\n",
            "weighted avg       0.98      0.98      0.98      3923\n",
            "\n"
          ],
          "name": "stdout"
        }
      ]
    },
    {
      "cell_type": "code",
      "metadata": {
        "id": "cNcLzIk4DwdQ"
      },
      "source": [
        "# 76 features --> 0.99 accuracy / 0.98 f1\n",
        "# 5 features  --> 0.98 accuarcy / 0.97 f1"
      ],
      "execution_count": null,
      "outputs": []
    },
    {
      "cell_type": "code",
      "metadata": {
        "colab": {
          "base_uri": "https://localhost:8080/"
        },
        "id": "dnD94t36FGW7",
        "outputId": "445812bf-d7fe-457c-e439-454fbc70aa08"
      },
      "source": [
        "from joblib import dump\n",
        "\n",
        "dump(tree, 'antivirus_tree.joblib')"
      ],
      "execution_count": null,
      "outputs": [
        {
          "output_type": "execute_result",
          "data": {
            "text/plain": [
              "['antivirus_tree.joblib']"
            ]
          },
          "metadata": {
            "tags": []
          },
          "execution_count": 126
        }
      ]
    },
    {
      "cell_type": "markdown",
      "metadata": {
        "id": "P7DglI85Kpne"
      },
      "source": [
        "#### Deployment on a web server (APP)"
      ]
    },
    {
      "cell_type": "code",
      "metadata": {
        "id": "wnrHxbjjFkX6"
      },
      "source": [
        "from joblib import load\n",
        "\n",
        "def get_data():\n",
        "  # method 1: API\n",
        "  # method 2: Database\n",
        "  return features\n",
        "  \n",
        "def preprocess_data(features):\n",
        "  # Missing data\n",
        "  # Type casting\n",
        "  # Normalisation & standardisation\n",
        "  return pre_processed_data\n",
        "\n",
        "def main():\n",
        "  # Model Loading\n",
        "  model = load(\"antivirus_tree.joblib\")\n",
        "\n",
        "  # Getting the data to predict on\n",
        "  features = get_data()\n",
        "  pre_processed_data = preprocess(features)\n",
        "\n",
        "  # Inference / Predict\n",
        "  return model.predict(pre_processed_data)"
      ],
      "execution_count": null,
      "outputs": []
    },
    {
      "cell_type": "markdown",
      "metadata": {
        "id": "09fVrPEtDNbz"
      },
      "source": [
        "# Part 3: Preprocessing"
      ]
    },
    {
      "cell_type": "markdown",
      "metadata": {
        "id": "KzaWCPw7DucW"
      },
      "source": [
        "*   Preprocessing\n",
        "*   Regression\n",
        "\n"
      ]
    },
    {
      "cell_type": "code",
      "metadata": {
        "id": "cWrjDuhNDjsS"
      },
      "source": [
        "import pandas as pd\n",
        "import seaborn as sns"
      ],
      "execution_count": null,
      "outputs": []
    },
    {
      "cell_type": "code",
      "metadata": {
        "colab": {
          "base_uri": "https://localhost:8080/"
        },
        "id": "2Xef9R9QDmbg",
        "outputId": "53ad7cc3-9daf-480e-df7d-23bc85ad7a88"
      },
      "source": [
        "dataset = pd.read_csv(\"https://raw.githubusercontent.com/LearningPlus/MarketingRawData/master/MarketingRawData.csv\")\n",
        "dataset.shape"
      ],
      "execution_count": null,
      "outputs": [
        {
          "output_type": "execute_result",
          "data": {
            "text/plain": [
              "(182, 11)"
            ]
          },
          "metadata": {
            "tags": []
          },
          "execution_count": 45
        }
      ]
    },
    {
      "cell_type": "code",
      "metadata": {
        "colab": {
          "base_uri": "https://localhost:8080/",
          "height": 203
        },
        "id": "pTXWAXgcDz9a",
        "outputId": "692a599e-bdff-4b8c-bf09-afc16688f86a"
      },
      "source": [
        "dataset.head()\n",
        "# Label (y) --> Revenue\n",
        "# Promo et Day_name strings\n",
        "\n",
        "# Date (tricky to use) \n",
        "# --> m1: nkharej minha 3 colonnes: day\n",
        "# -------> m2: nistaghna 3andha 3alakhatir deja 3andi colonnes year, month & week"
      ],
      "execution_count": null,
      "outputs": [
        {
          "output_type": "execute_result",
          "data": {
            "text/html": [
              "<div>\n",
              "<style scoped>\n",
              "    .dataframe tbody tr th:only-of-type {\n",
              "        vertical-align: middle;\n",
              "    }\n",
              "\n",
              "    .dataframe tbody tr th {\n",
              "        vertical-align: top;\n",
              "    }\n",
              "\n",
              "    .dataframe thead th {\n",
              "        text-align: right;\n",
              "    }\n",
              "</style>\n",
              "<table border=\"1\" class=\"dataframe\">\n",
              "  <thead>\n",
              "    <tr style=\"text-align: right;\">\n",
              "      <th></th>\n",
              "      <th>Date</th>\n",
              "      <th>Week</th>\n",
              "      <th>Week_ID</th>\n",
              "      <th>Month</th>\n",
              "      <th>Month_ID</th>\n",
              "      <th>Year</th>\n",
              "      <th>Day_Name</th>\n",
              "      <th>Visitors</th>\n",
              "      <th>Revenue</th>\n",
              "      <th>Marketing Spend</th>\n",
              "      <th>Promo</th>\n",
              "    </tr>\n",
              "  </thead>\n",
              "  <tbody>\n",
              "    <tr>\n",
              "      <th>0</th>\n",
              "      <td>09/11/2020</td>\n",
              "      <td>46</td>\n",
              "      <td>34</td>\n",
              "      <td>11</td>\n",
              "      <td>11</td>\n",
              "      <td>2020</td>\n",
              "      <td>Monday</td>\n",
              "      <td>707</td>\n",
              "      <td>465</td>\n",
              "      <td>651.375</td>\n",
              "      <td>No Promo</td>\n",
              "    </tr>\n",
              "    <tr>\n",
              "      <th>1</th>\n",
              "      <td>10/11/2020</td>\n",
              "      <td>46</td>\n",
              "      <td>34</td>\n",
              "      <td>11</td>\n",
              "      <td>11</td>\n",
              "      <td>2020</td>\n",
              "      <td>Tuesday</td>\n",
              "      <td>1455</td>\n",
              "      <td>10386</td>\n",
              "      <td>1298.250</td>\n",
              "      <td>Promotion Red</td>\n",
              "    </tr>\n",
              "    <tr>\n",
              "      <th>2</th>\n",
              "      <td>11/11/2020</td>\n",
              "      <td>46</td>\n",
              "      <td>34</td>\n",
              "      <td>11</td>\n",
              "      <td>11</td>\n",
              "      <td>2020</td>\n",
              "      <td>Wednesday</td>\n",
              "      <td>1520</td>\n",
              "      <td>12475</td>\n",
              "      <td>1559.375</td>\n",
              "      <td>Promotion Blue</td>\n",
              "    </tr>\n",
              "    <tr>\n",
              "      <th>3</th>\n",
              "      <td>12/11/2020</td>\n",
              "      <td>46</td>\n",
              "      <td>34</td>\n",
              "      <td>11</td>\n",
              "      <td>11</td>\n",
              "      <td>2020</td>\n",
              "      <td>Thursday</td>\n",
              "      <td>1726</td>\n",
              "      <td>11712</td>\n",
              "      <td>1801.750</td>\n",
              "      <td>No Promo</td>\n",
              "    </tr>\n",
              "    <tr>\n",
              "      <th>4</th>\n",
              "      <td>13/11/2020</td>\n",
              "      <td>46</td>\n",
              "      <td>34</td>\n",
              "      <td>11</td>\n",
              "      <td>11</td>\n",
              "      <td>2020</td>\n",
              "      <td>Friday</td>\n",
              "      <td>2134</td>\n",
              "      <td>10000</td>\n",
              "      <td>2614.500</td>\n",
              "      <td>No Promo</td>\n",
              "    </tr>\n",
              "  </tbody>\n",
              "</table>\n",
              "</div>"
            ],
            "text/plain": [
              "         Date  Week  Week_ID  ...  Revenue  Marketing Spend           Promo\n",
              "0  09/11/2020    46       34  ...      465          651.375        No Promo\n",
              "1  10/11/2020    46       34  ...    10386         1298.250   Promotion Red\n",
              "2  11/11/2020    46       34  ...    12475         1559.375  Promotion Blue\n",
              "3  12/11/2020    46       34  ...    11712         1801.750        No Promo\n",
              "4  13/11/2020    46       34  ...    10000         2614.500        No Promo\n",
              "\n",
              "[5 rows x 11 columns]"
            ]
          },
          "metadata": {
            "tags": []
          },
          "execution_count": 46
        }
      ]
    },
    {
      "cell_type": "code",
      "metadata": {
        "id": "OyM6nlzUFQU8"
      },
      "source": [
        "dataset.sample(10)\n",
        "# Do not delete Week_ID and Month_ID "
      ],
      "execution_count": null,
      "outputs": []
    },
    {
      "cell_type": "code",
      "metadata": {
        "id": "kwb7GcYLF56D"
      },
      "source": [
        "dataset.isnull().sum() \n",
        "# No missing values"
      ],
      "execution_count": null,
      "outputs": []
    },
    {
      "cell_type": "code",
      "metadata": {
        "id": "p5SG2Tg2GLfG"
      },
      "source": [
        "dataset.info()\n",
        "# No type problems, all numbers are int or float"
      ],
      "execution_count": null,
      "outputs": []
    },
    {
      "cell_type": "code",
      "metadata": {
        "colab": {
          "base_uri": "https://localhost:8080/",
          "height": 937
        },
        "id": "hIS9yir9GaH-",
        "outputId": "a9c2d867-abda-471e-ae67-852560f3ac0e"
      },
      "source": [
        "sns.pairplot(dataset)\n",
        "# Pairplot tchoufli correlation mabin chaque 2 variables\n",
        "# Ken il zouz yatl3ou m3a b3athom wala yahbtou m3a b3athhom rahou fama correlation --> BEHI\n",
        "# ken dekhla b3athha alors famech corelation\n",
        "\n",
        "# Visitors & Marketing Spend houma li correliw m3a Revenue"
      ],
      "execution_count": null,
      "outputs": [
        {
          "output_type": "execute_result",
          "data": {
            "text/plain": [
              "<seaborn.axisgrid.PairGrid at 0x7fa858d3c350>"
            ]
          },
          "metadata": {
            "tags": []
          },
          "execution_count": 61
        },
        {
          "output_type": "display_data",
          "data": {
            "image/png": "[encoded data removed]",
            "text/plain": [
              "<Figure size 1440x1440 with 72 Axes>"
            ]
          },
          "metadata": {
            "tags": [],
            "needs_background": "light"
          }
        }
      ]
    },
    {
      "cell_type": "code",
      "metadata": {
        "colab": {
          "base_uri": "https://localhost:8080/",
          "height": 567
        },
        "id": "FTqfbJEwJOE0",
        "outputId": "b14c65f1-6885-4227-a448-1b006e33ca4e"
      },
      "source": [
        "sns.pairplot(dataset[['Revenue', 'Visitors','Marketing Spend', 'Promo']], hue=\"Promo\")\n",
        "# Promo is an important feature"
      ],
      "execution_count": null,
      "outputs": [
        {
          "output_type": "execute_result",
          "data": {
            "text/plain": [
              "<seaborn.axisgrid.PairGrid at 0x7fa85aed0390>"
            ]
          },
          "metadata": {
            "tags": []
          },
          "execution_count": 58
        },
        {
          "output_type": "display_data",
          "data": {
            "image/png": "[encoded data removed]",
            "text/plain": [
              "<Figure size 651.875x540 with 12 Axes>"
            ]
          },
          "metadata": {
            "tags": [],
            "needs_background": "light"
          }
        }
      ]
    },
    {
      "cell_type": "code",
      "metadata": {
        "colab": {
          "base_uri": "https://localhost:8080/",
          "height": 567
        },
        "id": "1BnIC8-bKDcN",
        "outputId": "76ca9db5-3e5b-4bcd-a618-e91c9c6b04be"
      },
      "source": [
        "sns.pairplot(dataset[['Revenue', 'Visitors','Marketing Spend', 'Day_Name']], hue=\"Day_Name\")\n",
        "# Day_name is not an important feature"
      ],
      "execution_count": null,
      "outputs": [
        {
          "output_type": "execute_result",
          "data": {
            "text/plain": [
              "<seaborn.axisgrid.PairGrid at 0x7fa858d3ced0>"
            ]
          },
          "metadata": {
            "tags": []
          },
          "execution_count": 60
        },
        {
          "output_type": "display_data",
          "data": {
            "image/png": "[encoded data removed]",
            "text/plain": [
              "<Figure size 633.875x540 with 12 Axes>"
            ]
          },
          "metadata": {
            "tags": [],
            "needs_background": "light"
          }
        }
      ]
    },
    {
      "cell_type": "markdown",
      "metadata": {
        "id": "-3TvqbY7cvex"
      },
      "source": [
        "### Data Preparation"
      ]
    },
    {
      "cell_type": "code",
      "metadata": {
        "id": "i7BL5oVLLKWM"
      },
      "source": [
        "features = dataset[['Marketing Spend', 'Visitors', 'Promo']]\n",
        "labels = dataset['Revenue']"
      ],
      "execution_count": null,
      "outputs": []
    },
    {
      "cell_type": "markdown",
      "metadata": {
        "id": "P1K0VtE-c04x"
      },
      "source": [
        "#### Categorical Encoding"
      ]
    },
    {
      "cell_type": "code",
      "metadata": {
        "id": "eZ0oBUsWLnzF"
      },
      "source": [
        "# Categorical Encoding\n",
        "# Method 1: Label Encoding\n",
        "from sklearn.preprocessing import LabelEncoder\n",
        "le = LabelEncoder()\n",
        "features['Promo'] = le.fit_transform(features['Promo'])"
      ],
      "execution_count": null,
      "outputs": []
    },
    {
      "cell_type": "code",
      "metadata": {
        "id": "4nYzfctIXnk-"
      },
      "source": [
        "# Categorical Encoding\n",
        "# Method 2: One Hot Encoding\n",
        "# Technique 1: using sklearn (multiple lines --> more chance for error)\n",
        "#from sklearn.preprocessing import OneHotEncoder\n",
        "#ohe = OneHotEncoder()\n",
        "# for loop for each column\n",
        "#encoded_promo = ohe.fit_transform(features['Promo'])\n",
        "# nzid encoded_promo to features\n",
        "# nfasakh il original column\n",
        "\n",
        "# Technique 2: using pandas (1 line)\n",
        "features = pd.get_dummies(features, columns=['Promo'])"
      ],
      "execution_count": null,
      "outputs": []
    },
    {
      "cell_type": "markdown",
      "metadata": {
        "id": "PENJxRzPc3me"
      },
      "source": [
        "#### Data Scaling"
      ]
    },
    {
      "cell_type": "code",
      "metadata": {
        "id": "cWhYpErCausG"
      },
      "source": [
        "# Method 2: Normalisation, (entre 0 et 1)\n",
        "from sklearn.preprocessing import MinMaxScaler\n",
        "mms = MinMaxScaler()\n",
        "features[['Marketing Spend','Visitors']] = mms.fit_transform(features[['Marketing Spend','Visitors']])\n",
        "labels = mms.fit_transform(dataset[['Revenue']])"
      ],
      "execution_count": null,
      "outputs": []
    },
    {
      "cell_type": "code",
      "metadata": {
        "id": "WEvwqhLmeqns"
      },
      "source": [
        "# Method 1: Standardisation (valeurs asghir mais b nafs distribution)\n",
        "from sklearn.preprocessing import StandardScaler\n",
        "ss = StandardScaler()\n",
        "features[['Marketing Spend','Visitors']] = ss.fit_transform(features[['Marketing Spend','Visitors']])"
      ],
      "execution_count": null,
      "outputs": []
    },
    {
      "cell_type": "markdown",
      "metadata": {
        "id": "uboKzNuYc6lA"
      },
      "source": [
        "#### Data Splitting"
      ]
    },
    {
      "cell_type": "code",
      "metadata": {
        "id": "9VD7J3fpPD-d"
      },
      "source": [
        "from sklearn.model_selection import train_test_split\n",
        "X_train, X_test, y_train, y_test = train_test_split(features, labels, test_size=0.2, random_state=50)"
      ],
      "execution_count": null,
      "outputs": []
    },
    {
      "cell_type": "markdown",
      "metadata": {
        "id": "vONcVUBTdDfA"
      },
      "source": [
        "### ML training"
      ]
    },
    {
      "cell_type": "code",
      "metadata": {
        "colab": {
          "base_uri": "https://localhost:8080/"
        },
        "id": "kMsOfX2QO7kW",
        "outputId": "34ccb6a3-4b94-45fd-db79-9af64a37c2d2"
      },
      "source": [
        "# Machine Learning\n",
        "from sklearn.linear_model import LinearRegression\n",
        "lr = LinearRegression()\n",
        "lr.fit(X_train, y_train)"
      ],
      "execution_count": null,
      "outputs": [
        {
          "output_type": "execute_result",
          "data": {
            "text/plain": [
              "LinearRegression(copy_X=True, fit_intercept=True, n_jobs=None, normalize=False)"
            ]
          },
          "metadata": {
            "tags": []
          },
          "execution_count": 193
        }
      ]
    },
    {
      "cell_type": "markdown",
      "metadata": {
        "id": "zIVN4v9UdFrc"
      },
      "source": [
        "#### Evaluation"
      ]
    },
    {
      "cell_type": "code",
      "metadata": {
        "colab": {
          "base_uri": "https://localhost:8080/"
        },
        "id": "6HYJeRkoReWn",
        "outputId": "e3c17a54-d0ca-4f2e-84b0-d46c7ff25280"
      },
      "source": [
        "print(lr.score(X_train, y_train))\n",
        "print(lr.score(X_test, y_test))"
      ],
      "execution_count": null,
      "outputs": [
        {
          "output_type": "stream",
          "text": [
            "0.8193549260274673\n",
            "0.8407648717594951\n"
          ],
          "name": "stdout"
        }
      ]
    },
    {
      "cell_type": "markdown",
      "metadata": {
        "id": "lRpSnq4wXPay"
      },
      "source": [
        "**Benchmark** \n",
        "* Experiment:     Train_score  - Test_score\n",
        "\n",
        "1. **Label Encoding mta3 Promo:** 0.737  - 0.668\n",
        "2. **One Hot Encoding  mta3 Promo:** 0.83 - 0.768\n",
        "3. **OhE + features stand:** 0.83 - 0.768\n",
        "4. **Ohe + features norm:** 0.830 - 0.768\n",
        "5. **Ohe + features norm + labels norm:** 0.830 - 0.768\n",
        "\n",
        "\n"
      ]
    }
  ]
}